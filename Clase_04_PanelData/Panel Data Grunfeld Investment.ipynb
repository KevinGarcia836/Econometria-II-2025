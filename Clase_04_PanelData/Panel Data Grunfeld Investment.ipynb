{
 "cells": [
  {
   "cell_type": "markdown",
   "metadata": {},
   "source": [
    "# Ejemplo de Estimación por Datos Panel"
   ]
  },
  {
   "cell_type": "markdown",
   "metadata": {},
   "source": [
    "Referencia: Vella and M. Verbeek (1998), “Whose Wages Do Unions Raise? A Dynamic Model of Unionism and Wage Rate Determination for Young Men,” Journal of Applied Econometrics 13, 163-183."
   ]
  },
  {
   "cell_type": "markdown",
   "metadata": {},
   "source": [
    "## 1. Dependencias"
   ]
  },
  {
   "cell_type": "code",
   "execution_count": null,
   "metadata": {},
   "outputs": [],
   "source": [
    "#!pip install linearmodels==4.24\n",
    "#!pip install linearmodels==4.5\n",
    "#!pip install linearmodels"
   ]
  },
  {
   "cell_type": "code",
   "execution_count": null,
   "metadata": {},
   "outputs": [],
   "source": [
    "import pandas as pd\n",
    "import numpy as np\n",
    "import statsmodels.api as sm\n",
    "from statsmodels.iolib.summary2 import summary_col\n",
    "from linearmodels.panel.model import PooledOLS, PanelOLS\n",
    "from linearmodels.panel import RandomEffects\n",
    "from linearmodels.panel import compare # Para comparar modelos\n",
    "\n",
    "#\n",
    "import warnings\n",
    "warnings.filterwarnings('ignore')"
   ]
  },
  {
   "cell_type": "markdown",
   "metadata": {},
   "source": [
    "## 2. Importación de datos"
   ]
  },
  {
   "cell_type": "code",
   "execution_count": null,
   "metadata": {},
   "outputs": [],
   "source": [
    "# Importamos el Data Set\n",
    "data_to_load = 'wage_panel.csv'\n",
    "\n",
    "# Read the and \n",
    "wage_df = pd.read_csv(data_to_load)\n",
    "wage_df.head()"
   ]
  },
  {
   "cell_type": "markdown",
   "metadata": {},
   "source": [
    "### Los datos importados son:\n",
    "* nr: person identifier\n",
    "* year: 1980 to 1987\n",
    "* black: =1 if black\n",
    "* exper: labor market experience\n",
    "* hisp: =1 if Hispanic\n",
    "* hours: annual hours worked\n",
    "* married: =1 if married\n",
    "* educ: years of schooling\n",
    "* union: =1 if in union\n",
    "* lwage: log(wage)\n",
    "* expersq: exper^2\n",
    "* occupation: Occupation code"
   ]
  },
  {
   "cell_type": "code",
   "execution_count": null,
   "metadata": {},
   "outputs": [],
   "source": [
    "# Adecuaciones al índice para hacerlo Panel:\n",
    "year = wage_df.year\n",
    "wage_df = wage_df.set_index(['nr', 'year'])\n",
    "wage_df#.head()"
   ]
  },
  {
   "cell_type": "code",
   "execution_count": null,
   "metadata": {},
   "outputs": [],
   "source": [
    "# Agregamos una columna adicional de año (opción 1):\n",
    "wage_df['year'] = pd.Categorical( year )\n",
    "wage_df.head()"
   ]
  },
  {
   "cell_type": "code",
   "execution_count": null,
   "metadata": {},
   "outputs": [],
   "source": [
    "[ wage_df , pd.get_dummies(wage_df['year']) ]"
   ]
  },
  {
   "cell_type": "code",
   "execution_count": null,
   "metadata": {},
   "outputs": [],
   "source": [
    "# Agregamos columnas de dummies de Year (opción 2):\n",
    "wage_df = pd.concat( [ wage_df , pd.get_dummies(wage_df['year']) ], axis=1)"
   ]
  },
  {
   "cell_type": "code",
   "execution_count": null,
   "metadata": {},
   "outputs": [],
   "source": [
    "# Show data:\n",
    "wage_df"
   ]
  },
  {
   "cell_type": "markdown",
   "metadata": {},
   "source": [
    "## 3. Regresión Pooled"
   ]
  },
  {
   "cell_type": "code",
   "execution_count": null,
   "metadata": {},
   "outputs": [],
   "source": [
    "# Definición de variables exógeneas y endógena\n",
    "X = [ 'black','hisp','exper','expersq','married', 'educ', 'union', 'year', 'hours' ]\n",
    "X = sm.add_constant( wage_df[X] )\n",
    "X"
   ]
  },
  {
   "cell_type": "code",
   "execution_count": null,
   "metadata": {},
   "outputs": [],
   "source": [
    "# Definición de variables exógeneas y endógena\n",
    "X1 = [ 'black','hisp','exper','expersq','married', 'educ', 'union', 1981, 1982,\n",
    "       1983, 1984, 1985, 1986, 1987, 'hours' ]\n",
    "X1 = sm.add_constant( wage_df[X1] )\n",
    "X1"
   ]
  },
  {
   "cell_type": "code",
   "execution_count": null,
   "metadata": {},
   "outputs": [],
   "source": [
    "#\n",
    "Y = wage_df[ 'lwage' ]\n",
    "Y"
   ]
  },
  {
   "cell_type": "code",
   "execution_count": null,
   "metadata": {},
   "outputs": [],
   "source": [
    "# Regresión\n",
    "model_1 = PooledOLS(Y, X1)\n",
    "pooled_res_1 = model_1.fit()\n",
    "print(pooled_res_1)"
   ]
  },
  {
   "cell_type": "code",
   "execution_count": null,
   "metadata": {},
   "outputs": [],
   "source": [
    "# Regresión\n",
    "model = PooledOLS(Y, X)\n",
    "pooled_res = model.fit()\n",
    "print(pooled_res)"
   ]
  },
  {
   "cell_type": "markdown",
   "metadata": {},
   "source": [
    "## 4. Efectos aleatorios"
   ]
  },
  {
   "cell_type": "code",
   "execution_count": null,
   "metadata": {},
   "outputs": [],
   "source": [
    "# Regresión\n",
    "model = RandomEffects(Y, X)\n",
    "re_res = model.fit()\n",
    "print(re_res)"
   ]
  },
  {
   "cell_type": "code",
   "execution_count": null,
   "metadata": {},
   "outputs": [],
   "source": [
    "# Descomposición de varianza\n",
    "re_res.variance_decomposition"
   ]
  },
  {
   "cell_type": "markdown",
   "metadata": {},
   "source": [
    "## 5. Efectos fijos"
   ]
  },
  {
   "cell_type": "code",
   "execution_count": null,
   "metadata": {},
   "outputs": [],
   "source": [
    "# Regresion\n",
    "#(Estas líneas generan un error que es intencional..)\n",
    "model = PanelOLS(Y, X, entity_effects = True)\n",
    "fe_res = model.fit()\n",
    "print(fe_res)"
   ]
  },
  {
   "cell_type": "code",
   "execution_count": null,
   "metadata": {},
   "outputs": [],
   "source": [
    "# Regresion con efectos fijos por entidad\n",
    "# Omitimos: 'exper', 'black','hisp', 'educ'\n",
    "X = [ 'expersq', 'union', 'married', 'year', 'hours' ]\n",
    "X = sm.add_constant(wage_df[X])\n",
    "model = PanelOLS(Y, X, entity_effects = True)\n",
    "fe_res = model.fit()\n",
    "print(fe_res)"
   ]
  },
  {
   "cell_type": "code",
   "execution_count": null,
   "metadata": {},
   "outputs": [],
   "source": [
    "# Regresion con efectos fijos por entidad y tiempo\n",
    "# Omitimos: 'exper', 'black','hisp', 'educ', 'year'\n",
    "X = ['expersq', 'union', 'married', 'hours']\n",
    "X = sm.add_constant(wage_df[X])\n",
    "model = PanelOLS(Y, X, entity_effects = True, time_effects = True)\n",
    "fe_te_res = model.fit()\n",
    "print(fe_te_res)"
   ]
  },
  {
   "cell_type": "markdown",
   "metadata": {},
   "source": [
    "## 6. Comparación de modelos"
   ]
  },
  {
   "cell_type": "code",
   "execution_count": null,
   "metadata": {},
   "outputs": [],
   "source": [
    "#\n",
    "print(compare( { 'Fix efect Ent.': fe_res, \n",
    "                 'Fix Efect Ent-Time': fe_te_res,\n",
    "                 'Radom efects': re_res, \n",
    "                 'Pooled': pooled_res } ))"
   ]
  },
  {
   "cell_type": "markdown",
   "metadata": {},
   "source": [
    "## 7. Varianza Robusta:"
   ]
  },
  {
   "cell_type": "code",
   "execution_count": null,
   "metadata": {},
   "outputs": [],
   "source": [
    "# Rregresión\n",
    "X = ['expersq', 'union', 'married', 'year', 'hours']\n",
    "X = sm.add_constant(wage_df[X])\n",
    "model = PanelOLS(Y, X, entity_effects = True)\n",
    "#fe_res = model.fit(cov_type = 'robust') \n",
    "# NOTAS: “unadjusted”, “homoskedastic” - Assume residual are homoskedastic, AND \n",
    "#       “robust”, “heteroskedastic” - Control for heteroskedasticity using White’s estimator\n",
    "fe_res = model.fit(cov_type = \"clustered\", cluster_entity = True)\n",
    "# NOTAS: clust_entity_time = mod.fit(cov_type='clustered', cluster_entity=True, cluster_time=True)\n",
    "\n",
    "print(fe_res)"
   ]
  },
  {
   "cell_type": "code",
   "execution_count": null,
   "metadata": {},
   "outputs": [],
   "source": []
  }
 ],
 "metadata": {
  "kernelspec": {
   "display_name": "Python 3 (ipykernel)",
   "language": "python",
   "name": "python3"
  },
  "language_info": {
   "codemirror_mode": {
    "name": "ipython",
    "version": 3
   },
   "file_extension": ".py",
   "mimetype": "text/x-python",
   "name": "python",
   "nbconvert_exporter": "python",
   "pygments_lexer": "ipython3",
   "version": "3.10.14"
  }
 },
 "nbformat": 4,
 "nbformat_minor": 2
}
