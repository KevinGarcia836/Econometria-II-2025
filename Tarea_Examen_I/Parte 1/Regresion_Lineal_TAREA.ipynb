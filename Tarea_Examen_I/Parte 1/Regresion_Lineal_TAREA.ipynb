{
  "cells": [
    {
      "cell_type": "markdown",
      "metadata": {
        "id": "TStIKanSd-Uj"
      },
      "source": [
        "# TAREA:\n",
        "\n",
        "\n",
        "# Regresion Lineal\n",
        "## Basado en Christensen, L y W. Greene (1976), \"Economies of Scale in U.S. Electric Power Generation\", Journal of Political Economy, Vol. 84, No. 4, pp. 655-676\n",
        "\n",
        "A continuación, resuleva cada una las instrucciones que se le señalan"
      ]
    },
    {
      "cell_type": "code",
      "source": [
        "!pip install pyreadstat\n"
      ],
      "metadata": {
        "id": "3ChOhQX1emPD",
        "outputId": "63bb1bed-1db2-4520-cb44-31728bbbe6c2",
        "colab": {
          "base_uri": "https://localhost:8080/"
        }
      },
      "execution_count": 2,
      "outputs": [
        {
          "output_type": "stream",
          "name": "stdout",
          "text": [
            "Collecting pyreadstat\n",
            "  Downloading pyreadstat-1.2.8-cp311-cp311-manylinux_2_17_x86_64.manylinux2014_x86_64.whl.metadata (1.0 kB)\n",
            "Requirement already satisfied: pandas>=1.2.0 in /usr/local/lib/python3.11/dist-packages (from pyreadstat) (2.2.2)\n",
            "Requirement already satisfied: numpy>=1.23.2 in /usr/local/lib/python3.11/dist-packages (from pandas>=1.2.0->pyreadstat) (2.0.2)\n",
            "Requirement already satisfied: python-dateutil>=2.8.2 in /usr/local/lib/python3.11/dist-packages (from pandas>=1.2.0->pyreadstat) (2.8.2)\n",
            "Requirement already satisfied: pytz>=2020.1 in /usr/local/lib/python3.11/dist-packages (from pandas>=1.2.0->pyreadstat) (2025.1)\n",
            "Requirement already satisfied: tzdata>=2022.7 in /usr/local/lib/python3.11/dist-packages (from pandas>=1.2.0->pyreadstat) (2025.1)\n",
            "Requirement already satisfied: six>=1.5 in /usr/local/lib/python3.11/dist-packages (from python-dateutil>=2.8.2->pandas>=1.2.0->pyreadstat) (1.17.0)\n",
            "Downloading pyreadstat-1.2.8-cp311-cp311-manylinux_2_17_x86_64.manylinux2014_x86_64.whl (2.9 MB)\n",
            "\u001b[2K   \u001b[90m━━━━━━━━━━━━━━━━━━━━━━━━━━━━━━━━━━━━━━━━\u001b[0m \u001b[32m2.9/2.9 MB\u001b[0m \u001b[31m26.0 MB/s\u001b[0m eta \u001b[36m0:00:00\u001b[0m\n",
            "\u001b[?25hInstalling collected packages: pyreadstat\n",
            "Successfully installed pyreadstat-1.2.8\n"
          ]
        }
      ]
    },
    {
      "cell_type": "code",
      "execution_count": 3,
      "metadata": {
        "id": "o-oZi-Cad-Uj"
      },
      "outputs": [],
      "source": [
        "# Importamos Dependencias o Bibliotecas necesarias:\n",
        "import pyreadstat # librería para leer formato \".dta\"\n",
        "import pandas as pd # librería para manipulación de datos\n",
        "import numpy as np # Librería para operaciones matemáticas\n",
        "import matplotlib # Librería para graficar\n",
        "from matplotlib import pyplot as plt # Librería para graficar\n",
        "import statsmodels.api as sm # Librería para análisis estadístico\n",
        "from IPython.display import Image # Librería para importar imagénes\n",
        "from statsmodels.formula.api import ols # Librería para pruebas de hipotesis\n",
        "\n",
        "#\n",
        "import warnings\n",
        "warnings.filterwarnings('ignore')"
      ]
    },
    {
      "cell_type": "markdown",
      "metadata": {
        "id": "LlqaOIhNd-Uk"
      },
      "source": [
        "### La base de datos contiene información de 100 empresa de generación eléctrica, reportada en las siguientes variables:\n",
        "\n",
        "* **firmid:** ID de la empresa\n",
        "* **cost:** Total costs in MM USD\n",
        "* **output:** output billion KwH\n",
        "* **plabor:** price of labor\n",
        "* **pfuel:** price of fuel\n",
        "* **pkap:** price of capital\n",
        "* **labshr:** participación del trabajo en el costo\n",
        "* **kapshr:** participación del capital en el costo"
      ]
    },
    {
      "cell_type": "code",
      "source": [],
      "metadata": {
        "id": "cgN7Bo9Bfk32"
      },
      "execution_count": null,
      "outputs": []
    },
    {
      "cell_type": "markdown",
      "metadata": {
        "id": "E8IBRWjad-Uk"
      },
      "source": [
        "## 1. Importe la base de DATOS:"
      ]
    },
    {
      "cell_type": "code",
      "execution_count": 12,
      "metadata": {
        "id": "TJzQEsXtd-Uk"
      },
      "outputs": [],
      "source": [
        "# Ruta al archivo:\n",
        "datafile = 'cgreene76.dta'\n",
        "\n",
        "# La función read_data devuelve dos objetos: el dataframe y los metadatos\n",
        "df, meta = pyreadstat.read_dta(datafile)\n"
      ]
    },
    {
      "cell_type": "code",
      "execution_count": 14,
      "metadata": {
        "id": "LgvsIZodd-Uk",
        "outputId": "218a60b4-5815-4221-c536-52a984b05171",
        "colab": {
          "base_uri": "https://localhost:8080/",
          "height": 363
        }
      },
      "outputs": [
        {
          "output_type": "execute_result",
          "data": {
            "text/plain": [
              "    firmid       costs   output       plabor       pkap      pfuel  labshr  \\\n",
              "89   127.0  111.867996  23217.0  6873.729980  83.879997  33.394402  0.0849   \n",
              "90   142.0  125.335999  24001.0  8047.350098  74.372002  33.093201  0.0998   \n",
              "91   137.0  183.231995  27118.0  9914.360352  78.480003  41.757801  0.1280   \n",
              "92   130.0   87.101501  27708.0  6378.229980  63.599998  20.299999  0.1060   \n",
              "93   144.0  240.514008  29613.0  9312.929688  81.750000  41.887199  0.1561   \n",
              "94   143.0  191.563004  30958.0  9810.099609  69.541000  36.307598  0.1636   \n",
              "95   141.0  168.378006  34212.0  5683.830078  80.385002  40.528599  0.0651   \n",
              "96   138.0  169.235001  38343.0  9117.160156  65.991997  31.589701  0.0663   \n",
              "97   175.0  269.773010  46870.0  9761.379883  69.541000  33.199902  0.1594   \n",
              "98   172.0  240.485992  53918.0  6068.870117  78.379997  31.195400  0.0966   \n",
              "\n",
              "    kapshr  \n",
              "89  0.2007  \n",
              "90  0.2457  \n",
              "91  0.2265  \n",
              "92  0.2257  \n",
              "93  0.2017  \n",
              "94  0.1524  \n",
              "95  0.1361  \n",
              "96  0.2192  \n",
              "97  0.2194  \n",
              "98  0.1846  "
            ],
            "text/html": [
              "\n",
              "  <div id=\"df-30e32c47-c290-4ab5-a006-16734c675a5e\" class=\"colab-df-container\">\n",
              "    <div>\n",
              "<style scoped>\n",
              "    .dataframe tbody tr th:only-of-type {\n",
              "        vertical-align: middle;\n",
              "    }\n",
              "\n",
              "    .dataframe tbody tr th {\n",
              "        vertical-align: top;\n",
              "    }\n",
              "\n",
              "    .dataframe thead th {\n",
              "        text-align: right;\n",
              "    }\n",
              "</style>\n",
              "<table border=\"1\" class=\"dataframe\">\n",
              "  <thead>\n",
              "    <tr style=\"text-align: right;\">\n",
              "      <th></th>\n",
              "      <th>firmid</th>\n",
              "      <th>costs</th>\n",
              "      <th>output</th>\n",
              "      <th>plabor</th>\n",
              "      <th>pkap</th>\n",
              "      <th>pfuel</th>\n",
              "      <th>labshr</th>\n",
              "      <th>kapshr</th>\n",
              "    </tr>\n",
              "  </thead>\n",
              "  <tbody>\n",
              "    <tr>\n",
              "      <th>89</th>\n",
              "      <td>127.0</td>\n",
              "      <td>111.867996</td>\n",
              "      <td>23217.0</td>\n",
              "      <td>6873.729980</td>\n",
              "      <td>83.879997</td>\n",
              "      <td>33.394402</td>\n",
              "      <td>0.0849</td>\n",
              "      <td>0.2007</td>\n",
              "    </tr>\n",
              "    <tr>\n",
              "      <th>90</th>\n",
              "      <td>142.0</td>\n",
              "      <td>125.335999</td>\n",
              "      <td>24001.0</td>\n",
              "      <td>8047.350098</td>\n",
              "      <td>74.372002</td>\n",
              "      <td>33.093201</td>\n",
              "      <td>0.0998</td>\n",
              "      <td>0.2457</td>\n",
              "    </tr>\n",
              "    <tr>\n",
              "      <th>91</th>\n",
              "      <td>137.0</td>\n",
              "      <td>183.231995</td>\n",
              "      <td>27118.0</td>\n",
              "      <td>9914.360352</td>\n",
              "      <td>78.480003</td>\n",
              "      <td>41.757801</td>\n",
              "      <td>0.1280</td>\n",
              "      <td>0.2265</td>\n",
              "    </tr>\n",
              "    <tr>\n",
              "      <th>92</th>\n",
              "      <td>130.0</td>\n",
              "      <td>87.101501</td>\n",
              "      <td>27708.0</td>\n",
              "      <td>6378.229980</td>\n",
              "      <td>63.599998</td>\n",
              "      <td>20.299999</td>\n",
              "      <td>0.1060</td>\n",
              "      <td>0.2257</td>\n",
              "    </tr>\n",
              "    <tr>\n",
              "      <th>93</th>\n",
              "      <td>144.0</td>\n",
              "      <td>240.514008</td>\n",
              "      <td>29613.0</td>\n",
              "      <td>9312.929688</td>\n",
              "      <td>81.750000</td>\n",
              "      <td>41.887199</td>\n",
              "      <td>0.1561</td>\n",
              "      <td>0.2017</td>\n",
              "    </tr>\n",
              "    <tr>\n",
              "      <th>94</th>\n",
              "      <td>143.0</td>\n",
              "      <td>191.563004</td>\n",
              "      <td>30958.0</td>\n",
              "      <td>9810.099609</td>\n",
              "      <td>69.541000</td>\n",
              "      <td>36.307598</td>\n",
              "      <td>0.1636</td>\n",
              "      <td>0.1524</td>\n",
              "    </tr>\n",
              "    <tr>\n",
              "      <th>95</th>\n",
              "      <td>141.0</td>\n",
              "      <td>168.378006</td>\n",
              "      <td>34212.0</td>\n",
              "      <td>5683.830078</td>\n",
              "      <td>80.385002</td>\n",
              "      <td>40.528599</td>\n",
              "      <td>0.0651</td>\n",
              "      <td>0.1361</td>\n",
              "    </tr>\n",
              "    <tr>\n",
              "      <th>96</th>\n",
              "      <td>138.0</td>\n",
              "      <td>169.235001</td>\n",
              "      <td>38343.0</td>\n",
              "      <td>9117.160156</td>\n",
              "      <td>65.991997</td>\n",
              "      <td>31.589701</td>\n",
              "      <td>0.0663</td>\n",
              "      <td>0.2192</td>\n",
              "    </tr>\n",
              "    <tr>\n",
              "      <th>97</th>\n",
              "      <td>175.0</td>\n",
              "      <td>269.773010</td>\n",
              "      <td>46870.0</td>\n",
              "      <td>9761.379883</td>\n",
              "      <td>69.541000</td>\n",
              "      <td>33.199902</td>\n",
              "      <td>0.1594</td>\n",
              "      <td>0.2194</td>\n",
              "    </tr>\n",
              "    <tr>\n",
              "      <th>98</th>\n",
              "      <td>172.0</td>\n",
              "      <td>240.485992</td>\n",
              "      <td>53918.0</td>\n",
              "      <td>6068.870117</td>\n",
              "      <td>78.379997</td>\n",
              "      <td>31.195400</td>\n",
              "      <td>0.0966</td>\n",
              "      <td>0.1846</td>\n",
              "    </tr>\n",
              "  </tbody>\n",
              "</table>\n",
              "</div>\n",
              "    <div class=\"colab-df-buttons\">\n",
              "\n",
              "  <div class=\"colab-df-container\">\n",
              "    <button class=\"colab-df-convert\" onclick=\"convertToInteractive('df-30e32c47-c290-4ab5-a006-16734c675a5e')\"\n",
              "            title=\"Convert this dataframe to an interactive table.\"\n",
              "            style=\"display:none;\">\n",
              "\n",
              "  <svg xmlns=\"http://www.w3.org/2000/svg\" height=\"24px\" viewBox=\"0 -960 960 960\">\n",
              "    <path d=\"M120-120v-720h720v720H120Zm60-500h600v-160H180v160Zm220 220h160v-160H400v160Zm0 220h160v-160H400v160ZM180-400h160v-160H180v160Zm440 0h160v-160H620v160ZM180-180h160v-160H180v160Zm440 0h160v-160H620v160Z\"/>\n",
              "  </svg>\n",
              "    </button>\n",
              "\n",
              "  <style>\n",
              "    .colab-df-container {\n",
              "      display:flex;\n",
              "      gap: 12px;\n",
              "    }\n",
              "\n",
              "    .colab-df-convert {\n",
              "      background-color: #E8F0FE;\n",
              "      border: none;\n",
              "      border-radius: 50%;\n",
              "      cursor: pointer;\n",
              "      display: none;\n",
              "      fill: #1967D2;\n",
              "      height: 32px;\n",
              "      padding: 0 0 0 0;\n",
              "      width: 32px;\n",
              "    }\n",
              "\n",
              "    .colab-df-convert:hover {\n",
              "      background-color: #E2EBFA;\n",
              "      box-shadow: 0px 1px 2px rgba(60, 64, 67, 0.3), 0px 1px 3px 1px rgba(60, 64, 67, 0.15);\n",
              "      fill: #174EA6;\n",
              "    }\n",
              "\n",
              "    .colab-df-buttons div {\n",
              "      margin-bottom: 4px;\n",
              "    }\n",
              "\n",
              "    [theme=dark] .colab-df-convert {\n",
              "      background-color: #3B4455;\n",
              "      fill: #D2E3FC;\n",
              "    }\n",
              "\n",
              "    [theme=dark] .colab-df-convert:hover {\n",
              "      background-color: #434B5C;\n",
              "      box-shadow: 0px 1px 3px 1px rgba(0, 0, 0, 0.15);\n",
              "      filter: drop-shadow(0px 1px 2px rgba(0, 0, 0, 0.3));\n",
              "      fill: #FFFFFF;\n",
              "    }\n",
              "  </style>\n",
              "\n",
              "    <script>\n",
              "      const buttonEl =\n",
              "        document.querySelector('#df-30e32c47-c290-4ab5-a006-16734c675a5e button.colab-df-convert');\n",
              "      buttonEl.style.display =\n",
              "        google.colab.kernel.accessAllowed ? 'block' : 'none';\n",
              "\n",
              "      async function convertToInteractive(key) {\n",
              "        const element = document.querySelector('#df-30e32c47-c290-4ab5-a006-16734c675a5e');\n",
              "        const dataTable =\n",
              "          await google.colab.kernel.invokeFunction('convertToInteractive',\n",
              "                                                    [key], {});\n",
              "        if (!dataTable) return;\n",
              "\n",
              "        const docLinkHtml = 'Like what you see? Visit the ' +\n",
              "          '<a target=\"_blank\" href=https://colab.research.google.com/notebooks/data_table.ipynb>data table notebook</a>'\n",
              "          + ' to learn more about interactive tables.';\n",
              "        element.innerHTML = '';\n",
              "        dataTable['output_type'] = 'display_data';\n",
              "        await google.colab.output.renderOutput(dataTable, element);\n",
              "        const docLink = document.createElement('div');\n",
              "        docLink.innerHTML = docLinkHtml;\n",
              "        element.appendChild(docLink);\n",
              "      }\n",
              "    </script>\n",
              "  </div>\n",
              "\n",
              "\n",
              "<div id=\"df-1f28c2a9-8c50-41e0-b79c-0a0961f11048\">\n",
              "  <button class=\"colab-df-quickchart\" onclick=\"quickchart('df-1f28c2a9-8c50-41e0-b79c-0a0961f11048')\"\n",
              "            title=\"Suggest charts\"\n",
              "            style=\"display:none;\">\n",
              "\n",
              "<svg xmlns=\"http://www.w3.org/2000/svg\" height=\"24px\"viewBox=\"0 0 24 24\"\n",
              "     width=\"24px\">\n",
              "    <g>\n",
              "        <path d=\"M19 3H5c-1.1 0-2 .9-2 2v14c0 1.1.9 2 2 2h14c1.1 0 2-.9 2-2V5c0-1.1-.9-2-2-2zM9 17H7v-7h2v7zm4 0h-2V7h2v10zm4 0h-2v-4h2v4z\"/>\n",
              "    </g>\n",
              "</svg>\n",
              "  </button>\n",
              "\n",
              "<style>\n",
              "  .colab-df-quickchart {\n",
              "      --bg-color: #E8F0FE;\n",
              "      --fill-color: #1967D2;\n",
              "      --hover-bg-color: #E2EBFA;\n",
              "      --hover-fill-color: #174EA6;\n",
              "      --disabled-fill-color: #AAA;\n",
              "      --disabled-bg-color: #DDD;\n",
              "  }\n",
              "\n",
              "  [theme=dark] .colab-df-quickchart {\n",
              "      --bg-color: #3B4455;\n",
              "      --fill-color: #D2E3FC;\n",
              "      --hover-bg-color: #434B5C;\n",
              "      --hover-fill-color: #FFFFFF;\n",
              "      --disabled-bg-color: #3B4455;\n",
              "      --disabled-fill-color: #666;\n",
              "  }\n",
              "\n",
              "  .colab-df-quickchart {\n",
              "    background-color: var(--bg-color);\n",
              "    border: none;\n",
              "    border-radius: 50%;\n",
              "    cursor: pointer;\n",
              "    display: none;\n",
              "    fill: var(--fill-color);\n",
              "    height: 32px;\n",
              "    padding: 0;\n",
              "    width: 32px;\n",
              "  }\n",
              "\n",
              "  .colab-df-quickchart:hover {\n",
              "    background-color: var(--hover-bg-color);\n",
              "    box-shadow: 0 1px 2px rgba(60, 64, 67, 0.3), 0 1px 3px 1px rgba(60, 64, 67, 0.15);\n",
              "    fill: var(--button-hover-fill-color);\n",
              "  }\n",
              "\n",
              "  .colab-df-quickchart-complete:disabled,\n",
              "  .colab-df-quickchart-complete:disabled:hover {\n",
              "    background-color: var(--disabled-bg-color);\n",
              "    fill: var(--disabled-fill-color);\n",
              "    box-shadow: none;\n",
              "  }\n",
              "\n",
              "  .colab-df-spinner {\n",
              "    border: 2px solid var(--fill-color);\n",
              "    border-color: transparent;\n",
              "    border-bottom-color: var(--fill-color);\n",
              "    animation:\n",
              "      spin 1s steps(1) infinite;\n",
              "  }\n",
              "\n",
              "  @keyframes spin {\n",
              "    0% {\n",
              "      border-color: transparent;\n",
              "      border-bottom-color: var(--fill-color);\n",
              "      border-left-color: var(--fill-color);\n",
              "    }\n",
              "    20% {\n",
              "      border-color: transparent;\n",
              "      border-left-color: var(--fill-color);\n",
              "      border-top-color: var(--fill-color);\n",
              "    }\n",
              "    30% {\n",
              "      border-color: transparent;\n",
              "      border-left-color: var(--fill-color);\n",
              "      border-top-color: var(--fill-color);\n",
              "      border-right-color: var(--fill-color);\n",
              "    }\n",
              "    40% {\n",
              "      border-color: transparent;\n",
              "      border-right-color: var(--fill-color);\n",
              "      border-top-color: var(--fill-color);\n",
              "    }\n",
              "    60% {\n",
              "      border-color: transparent;\n",
              "      border-right-color: var(--fill-color);\n",
              "    }\n",
              "    80% {\n",
              "      border-color: transparent;\n",
              "      border-right-color: var(--fill-color);\n",
              "      border-bottom-color: var(--fill-color);\n",
              "    }\n",
              "    90% {\n",
              "      border-color: transparent;\n",
              "      border-bottom-color: var(--fill-color);\n",
              "    }\n",
              "  }\n",
              "</style>\n",
              "\n",
              "  <script>\n",
              "    async function quickchart(key) {\n",
              "      const quickchartButtonEl =\n",
              "        document.querySelector('#' + key + ' button');\n",
              "      quickchartButtonEl.disabled = true;  // To prevent multiple clicks.\n",
              "      quickchartButtonEl.classList.add('colab-df-spinner');\n",
              "      try {\n",
              "        const charts = await google.colab.kernel.invokeFunction(\n",
              "            'suggestCharts', [key], {});\n",
              "      } catch (error) {\n",
              "        console.error('Error during call to suggestCharts:', error);\n",
              "      }\n",
              "      quickchartButtonEl.classList.remove('colab-df-spinner');\n",
              "      quickchartButtonEl.classList.add('colab-df-quickchart-complete');\n",
              "    }\n",
              "    (() => {\n",
              "      let quickchartButtonEl =\n",
              "        document.querySelector('#df-1f28c2a9-8c50-41e0-b79c-0a0961f11048 button');\n",
              "      quickchartButtonEl.style.display =\n",
              "        google.colab.kernel.accessAllowed ? 'block' : 'none';\n",
              "    })();\n",
              "  </script>\n",
              "</div>\n",
              "\n",
              "    </div>\n",
              "  </div>\n"
            ],
            "application/vnd.google.colaboratory.intrinsic+json": {
              "type": "dataframe",
              "summary": "{\n  \"name\": \"df\",\n  \"rows\": 10,\n  \"fields\": [\n    {\n      \"column\": \"firmid\",\n      \"properties\": {\n        \"dtype\": \"number\",\n        \"std\": 16.05857334191857,\n        \"min\": 127.0,\n        \"max\": 175.0,\n        \"num_unique_values\": 10,\n        \"samples\": [\n          175.0,\n          142.0,\n          143.0\n        ],\n        \"semantic_type\": \"\",\n        \"description\": \"\"\n      }\n    },\n    {\n      \"column\": \"costs\",\n      \"properties\": {\n        \"dtype\": \"number\",\n        \"std\": 59.64654581151871,\n        \"min\": 87.10150146484375,\n        \"max\": 269.77301025390625,\n        \"num_unique_values\": 10,\n        \"samples\": [\n          269.77301025390625,\n          125.33599853515625,\n          191.56300354003906\n        ],\n        \"semantic_type\": \"\",\n        \"description\": \"\"\n      }\n    },\n    {\n      \"column\": \"output\",\n      \"properties\": {\n        \"dtype\": \"number\",\n        \"std\": 10062.80417952946,\n        \"min\": 23217.0,\n        \"max\": 53918.0,\n        \"num_unique_values\": 10,\n        \"samples\": [\n          46870.0,\n          24001.0,\n          30958.0\n        ],\n        \"semantic_type\": \"\",\n        \"description\": \"\"\n      }\n    },\n    {\n      \"column\": \"plabor\",\n      \"properties\": {\n        \"dtype\": \"number\",\n        \"std\": 1696.9451495512048,\n        \"min\": 5683.830078125,\n        \"max\": 9914.3603515625,\n        \"num_unique_values\": 10,\n        \"samples\": [\n          9761.3798828125,\n          8047.35009765625,\n          9810.099609375\n        ],\n        \"semantic_type\": \"\",\n        \"description\": \"\"\n      }\n    },\n    {\n      \"column\": \"pkap\",\n      \"properties\": {\n        \"dtype\": \"number\",\n        \"std\": 7.042616077900611,\n        \"min\": 63.599998474121094,\n        \"max\": 83.87999725341797,\n        \"num_unique_values\": 9,\n        \"samples\": [\n          65.99199676513672,\n          74.37200164794922,\n          69.54100036621094\n        ],\n        \"semantic_type\": \"\",\n        \"description\": \"\"\n      }\n    },\n    {\n      \"column\": \"pfuel\",\n      \"properties\": {\n        \"dtype\": \"number\",\n        \"std\": 6.4332022083162785,\n        \"min\": 20.299999237060547,\n        \"max\": 41.88719940185547,\n        \"num_unique_values\": 10,\n        \"samples\": [\n          33.19990158081055,\n          33.09320068359375,\n          36.30759811401367\n        ],\n        \"semantic_type\": \"\",\n        \"description\": \"\"\n      }\n    },\n    {\n      \"column\": \"labshr\",\n      \"properties\": {\n        \"dtype\": \"number\",\n        \"std\": 0.03734416034969469,\n        \"min\": 0.06509999930858612,\n        \"max\": 0.16359999775886536,\n        \"num_unique_values\": 10,\n        \"samples\": [\n          0.15940000116825104,\n          0.0997999981045723,\n          0.16359999775886536\n        ],\n        \"semantic_type\": \"\",\n        \"description\": \"\"\n      }\n    },\n    {\n      \"column\": \"kapshr\",\n      \"properties\": {\n        \"dtype\": \"number\",\n        \"std\": 0.034595024573449026,\n        \"min\": 0.13609999418258667,\n        \"max\": 0.24570000171661377,\n        \"num_unique_values\": 10,\n        \"samples\": [\n          0.21940000355243683,\n          0.24570000171661377,\n          0.15240000188350677\n        ],\n        \"semantic_type\": \"\",\n        \"description\": \"\"\n      }\n    }\n  ]\n}"
            }
          },
          "metadata": {},
          "execution_count": 14
        }
      ],
      "source": [
        "# Muestre los datos importados\n",
        "df.tail(10)"
      ]
    },
    {
      "cell_type": "markdown",
      "metadata": {
        "id": "XzgKXAfsd-Uk"
      },
      "source": [
        "# Considere una función de costos del tipo translog, escrita como:\n",
        "\n",
        "$$ln(C) = \\alpha_0 +  \\alpha_Y ln(Y) + \\frac{1}{2} \\gamma_{YY} (ln(Y))^2 + \\sum_k \\alpha_k ln(P_{k}) + \\frac{1}{2} \\sum_{k} \\sum_{j} \\gamma_{kj} ln(P_k) ln(P_j) + \\sum_k \\gamma_{Yk} ln(Y) ln(P_k) + \\varepsilon_i$$\n",
        "\n",
        "Este ecuación es equivalente a la que Christensen y Greene denominan Modelo A. Donde:\n",
        "$\\gamma_{kj} = \\gamma_{jk}$, $C$ es el costo total, $Y$ es el producto, $P_k$'s y $P_j$'s son los precios de los factores. $k,j = $ precio de combustible, precio del capital y precio del trabajo.\n",
        "\n",
        "Noten que la doble suma $\\sum_{k} \\sum_{j} \\gamma_{kj} ln(P_k) ln(P_j)$ implica que el caso $(ln(P_k))^2$ y $(ln(P_j))^2$ son posibles."
      ]
    },
    {
      "cell_type": "markdown",
      "metadata": {
        "id": "7p88a5upd-Ul"
      },
      "source": [
        "## 2. Realice las transformaciones necesarias en los datos para estimar la ecuación anterior:"
      ]
    },
    {
      "cell_type": "code",
      "execution_count": null,
      "metadata": {
        "id": "NUi3H7Tcd-Ul"
      },
      "outputs": [],
      "source": [
        "#Creamos la variable:\n",
        "['Ltotcost'] = np.log(dataframe['totcost'])\n",
        "['Loutput'] = np.log(dataframe['output'])\n",
        "['Lplabor'] = np.log(dataframe['plabor'])\n",
        "\n",
        "\n",
        "dataframe['One'] = 1"
      ]
    },
    {
      "cell_type": "code",
      "execution_count": null,
      "metadata": {
        "id": "vp6mkI8Ld-Ul"
      },
      "outputs": [],
      "source": [
        "# Muestre su data frame con las variables adicionales necesarias\n",
        ".head()"
      ]
    },
    {
      "cell_type": "markdown",
      "metadata": {
        "id": "yxvnjkSEd-Ul"
      },
      "source": [
        "## 3. Realice la estimación de la regresión de la función translog:"
      ]
    },
    {
      "cell_type": "code",
      "execution_count": null,
      "metadata": {
        "id": "JsEKe1R4d-Ul"
      },
      "outputs": [],
      "source": [
        "# Definición de vector y matriz: Y y X\n",
        "Y = [\"Ltotcost\"]\n",
        "X = [[\"One\",\"Loutput\", \"Lplabor\", \"Lpfuel\", \"Lpkap\", , , ,]]\n",
        "#\n",
        "X"
      ]
    },
    {
      "cell_type": "code",
      "execution_count": null,
      "metadata": {
        "id": "Sws8nZvgd-Ul"
      },
      "outputs": [],
      "source": [
        "# Resporte de la estimación:\n",
        "est = sm.OLS(Y,X)\n",
        "est2 = est.fit()\n",
        "print(est2.summary())"
      ]
    },
    {
      "cell_type": "markdown",
      "metadata": {
        "id": "RbQ6KSEJd-Ul"
      },
      "source": [
        "## 4. Pruebe cada una de las siguientes hipótesis\n",
        "\n",
        "En cada caso escriba sus conclusiones respecto a la prueba y qué significado tiene para la estimación, de acuerdo con el trabajo de Christensen y Greene (1976)"
      ]
    },
    {
      "cell_type": "code",
      "execution_count": null,
      "metadata": {
        "id": "2x0Sh01cd-Ul"
      },
      "outputs": [],
      "source": [
        "# Establecemos la formula de la ecuación estimada:\n",
        "formula = 'Ltotcost ~  One + Loutput + Lplabor + Lpfuel + Lpkap + + + + '\n",
        "results = ols(formula, DataFrame).fit()"
      ]
    },
    {
      "cell_type": "markdown",
      "metadata": {
        "id": "h8PHbyZid-Ul"
      },
      "source": [
        "### 4.1\n",
        "$$H_0: \\sum_k \\alpha_k = 1$$"
      ]
    },
    {
      "cell_type": "code",
      "execution_count": null,
      "metadata": {
        "id": "Eq2lA41Gd-Ul"
      },
      "outputs": [],
      "source": [
        "# Establecemos la hipótesis\n",
        "hypotheses_1 = ' +  +  = 1'"
      ]
    },
    {
      "cell_type": "code",
      "execution_count": null,
      "metadata": {
        "id": "MNbYZn41d-Um"
      },
      "outputs": [],
      "source": [
        "# Prueba de la hipótesis:\n",
        "t_test_1 = results.t_test(hypotheses_1)\n",
        "print(t_test_1)"
      ]
    },
    {
      "cell_type": "markdown",
      "metadata": {
        "id": "-a7gvfp6d-Um"
      },
      "source": [
        "### 4.2\n",
        "$$H_0: \\sum_k \\gamma_{Yk} = 0$$"
      ]
    },
    {
      "cell_type": "code",
      "execution_count": null,
      "metadata": {
        "id": "J8rnMv7Hd-Um"
      },
      "outputs": [],
      "source": [
        "# Establecemos la hipótesis\n",
        "hypotheses_2 = ' +  +  = 1'"
      ]
    },
    {
      "cell_type": "code",
      "execution_count": null,
      "metadata": {
        "id": "Nq9FkjOZd-Um"
      },
      "outputs": [],
      "source": [
        "# Prueba de la hipótesis:\n",
        "t_test_2 = results.t_test(hypotheses_2)\n",
        "print(t_test_2)"
      ]
    },
    {
      "cell_type": "markdown",
      "metadata": {
        "id": "0oKYUBKld-Um"
      },
      "source": [
        "### 4.3\n",
        "$$H_0: \\sum_{k} \\gamma_{kj} = \\sum_{j} \\gamma_{kj} = \\sum_{k} \\sum_{j} \\gamma_{kj} = 0$$"
      ]
    },
    {
      "cell_type": "code",
      "execution_count": null,
      "metadata": {
        "id": "gyKNdoI_d-Um"
      },
      "outputs": [],
      "source": [
        "# Establecemos la hipótesis\n",
        "hypotheses_3 = ' +  +  = 1'"
      ]
    },
    {
      "cell_type": "code",
      "execution_count": null,
      "metadata": {
        "id": "ZImRGMn9d-Um"
      },
      "outputs": [],
      "source": [
        "# Prueba de la hipótesis:\n",
        "t_test_3 = results.t_test(hypotheses_3)\n",
        "print(t_test_3)"
      ]
    },
    {
      "cell_type": "markdown",
      "metadata": {
        "id": "mCWFHevzd-Um"
      },
      "source": [
        "## 5. Dadas sus conclusiones en las pruebas de hipótesis anteriores, ¿considere si debe ajustar la función de costos del tipo translog descrita anteriormente?, en su caso ajuste la siguiente expresión a la forma que debería estimar:\n",
        "\n",
        "$$ln(C) = \\alpha_0 +  \\alpha_Y ln(Y) + \\frac{1}{2} \\gamma_{YY} (ln(Y))^2 + \\sum_k \\alpha_k ln(P_{k}) + \\frac{1}{2} \\sum_k \\sum_j \\gamma_{kj} ln(P_k) ln(P_j) + \\sum_k \\gamma_{Yk} ln(Y) ln(P_k) + \\varepsilon_i$$\n",
        "\n",
        "## Estime la nueva propuesta"
      ]
    },
    {
      "cell_type": "code",
      "execution_count": null,
      "metadata": {
        "id": "4j12sqCjd-Um"
      },
      "outputs": [],
      "source": [
        "# Definición de vector y matriz: Y y X\n",
        "Y = [\"Ltotcost\"]\n",
        "X = [[\"One\",\"Loutput\", \"Lplabor\", \"Lpfuel\", \"Lpkap\", , , ,]]\n",
        "#\n",
        "X"
      ]
    },
    {
      "cell_type": "code",
      "execution_count": null,
      "metadata": {
        "id": "VdEBellTd-Um"
      },
      "outputs": [],
      "source": [
        "# Resporte de la estimación:\n",
        "est = sm.OLS(Y,X)\n",
        "est2 = est.fit()\n",
        "print(est2.summary())"
      ]
    },
    {
      "cell_type": "markdown",
      "metadata": {
        "id": "hct-ck9Xd-Um"
      },
      "source": [
        "## 6. Determine el valor del Costo Total Estimado y el Costo Medio Estimado considerado cualquiera de las estimaciones que considere pertinente"
      ]
    },
    {
      "cell_type": "code",
      "execution_count": null,
      "metadata": {
        "id": "_zDa4TYxd-Um"
      },
      "outputs": [],
      "source": [
        "# Rcuperamos de la regresión el valor del Log del costo estimado\n",
        " = est2.predict(X)\n",
        "# Anti-log:\n",
        "Y = np.exp( )\n",
        "# Colocamos en el Data Frame:\n",
        "['totcost_e'] = Y\n",
        "['avgcost_e'] = [\"totcost_e\"]/  [\"output\"]\n",
        ".head()"
      ]
    },
    {
      "cell_type": "markdown",
      "metadata": {
        "id": "pT0hEsMRd-Un"
      },
      "source": [
        "## 7. Gráfique su estimación de Costo Medio y el Costo Medio observado"
      ]
    },
    {
      "cell_type": "code",
      "execution_count": null,
      "metadata": {
        "id": "sNycPS-Yd-Un"
      },
      "outputs": [],
      "source": [
        "# graficamos resultados:\n",
        "plt.scatter(   .output, .avgcost, s = , color = \"\")\n",
        "plt.scatter( .output, .avgcost_e, s = , color = \"\")\n",
        "plt.title(\"Gráfico de dispersión PRoducto Vs Avg Cost y Avg Cost estimado\")\n",
        "\n",
        "#\n",
        "plt.show()\n",
        "\n",
        "# Guarde la imagen en un archivo PNG:\n",
        "save()"
      ]
    },
    {
      "cell_type": "markdown",
      "metadata": {
        "id": "UeDosEqdd-Un"
      },
      "source": [
        "## 8. Guarde el Data Frame en un archivo CSV:"
      ]
    },
    {
      "cell_type": "code",
      "execution_count": null,
      "metadata": {
        "id": "Hav6va6Ld-Un"
      },
      "outputs": [],
      "source": []
    }
  ],
  "metadata": {
    "kernelspec": {
      "display_name": "Python 3 (ipykernel)",
      "language": "python",
      "name": "python3"
    },
    "language_info": {
      "codemirror_mode": {
        "name": "ipython",
        "version": 3
      },
      "file_extension": ".py",
      "mimetype": "text/x-python",
      "name": "python",
      "nbconvert_exporter": "python",
      "pygments_lexer": "ipython3",
      "version": "3.10.14"
    },
    "colab": {
      "provenance": []
    }
  },
  "nbformat": 4,
  "nbformat_minor": 0
}