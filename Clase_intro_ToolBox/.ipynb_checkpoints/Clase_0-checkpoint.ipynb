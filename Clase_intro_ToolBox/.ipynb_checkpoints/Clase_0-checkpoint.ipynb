{
 "cells": [
  {
   "cell_type": "markdown",
   "metadata": {
    "id": "V1y9DBsUULra"
   },
   "source": [
    "# Clase 0: Introducción a Python con Jupyter Notebook\n",
    "\n",
    "by Benjamín Oliva & Omar Alfaro"
   ]
  },
  {
   "cell_type": "markdown",
   "metadata": {
    "id": "gqeW2oDCULrb"
   },
   "source": [
    "## Opciones para tomar este curso"
   ]
  },
  {
   "cell_type": "markdown",
   "metadata": {
    "id": "GxUmoIPUULrc"
   },
   "source": [
    "Como se ha discutido previamente, para fines de este curso centraremos nuestros ejemplos prácticos en el uso de _python_. \n",
    "\n",
    "Actualemnte existen diferentes y muy variados ambientes (frameworks) de trabajo para utilizar _notebooks_, nuestra recomendación se centra en el uso de:\n",
    "* _anaconda_ / _Jupyter Notebook_\n",
    "* _google colab_\n",
    "* _Visual Studio Code_\n",
    "\n",
    "Sin embargo, si el alumno conoce previamente otro framework en el cual se sienta más cómodo trabajando, es libre de utilizarlo; tomando en cuenta que los trabajos finales, idealmente, serán entregados en notebooks de python. \n",
    "\n",
    "En caso de  preferir anaconda es necesario utilizar [este manual](https://drive.google.com/file/d/1TSaPYLA-x5olHz27CB8gY6mqtpqzoaP5/view?usp=sharing) donde se explica paso a paso como instalar."
   ]
  },
  {
   "cell_type": "markdown",
   "metadata": {
    "id": "SdzUxZ9CULrc"
   },
   "source": [
    "### I. Muy breve introducción a __Google Colab__"
   ]
  },
  {
   "cell_type": "markdown",
   "metadata": {
    "id": "lgtVIavtULrc"
   },
   "source": [
    "Colab nos permite trabajar compilar código de _python_ sin la necesidad de realizar instalaciones en el entorno local de la máquina. Es suficiente contar con una cuenta de google y usar esta misma para trabajar en nuestros notebooks. Es recomendable esta opción cuando la computadora personal se pudiera ver limitada por sus capacidades de cálculo. Aparte, tiene la bondad de alojar los notebooks de trabajo en la cuenta de Google Drive personal."
   ]
  },
  {
   "cell_type": "markdown",
   "metadata": {
    "id": "qi7jGMaEULrc"
   },
   "source": [
    "Para visualizar los notebooks en colab, basta con seguir estos pasos:\n",
    "\n",
    "1.- Agregar [esta extensión](https://chrome.google.com/webstore/detail/open-in-colab/iogfkhleblhcpcekbiedikdehleodpjo)\n",
    "\n",
    "2.- Abrir el notebook en el [github del curso](https://github.com/benjov/Econometria-II-2023)\n",
    "\n",
    "3- Click en la extensión Open in Colab\n",
    "\n",
    "Otra opción es\n",
    "\n",
    "1.- Abrir [colab](https://colab.research.google.com/)\n",
    "\n",
    "2.- Selecccionar Github\n",
    "\n",
    "3.- Pegar la liga del curso y seleccionar la clase en que estaremos trabajando"
   ]
  },
  {
   "cell_type": "markdown",
   "metadata": {
    "id": "iRyAB-eoULrc"
   },
   "source": [
    "### II. Muy breve introducción a git y github\n",
    "\n",
    "Git es un sistema de control de versiones, lo cual en programación es de gran utilidad ya que nos permite guardar la historia de completa de un archivo y poder regresar a una version anterior en el momento que lo necesitemos. Github es la posibilidad de conectar al mundo nuestros proyectos y facilitar el trabajo colaborativo mediante la sintaxis de Git."
   ]
  },
  {
   "cell_type": "markdown",
   "metadata": {
    "id": "y-ZUGWOUULrc"
   },
   "source": [
    "Para los usuarios de Windows es necesario descargar e instalar *[Git](https://git-scm.com/downloads)*. En caso de que utilicen mac es necesario abrir la terminal (\"Control + Option + Shift + T”) y escribir \"*git --version*\"\n"
   ]
  },
  {
   "cell_type": "markdown",
   "metadata": {
    "id": "ngq81edwULrc"
   },
   "source": [
    "![Languages](https://github.com/benjov/Econometria-II-2024/blob/main/Clase_intro_ToolBox/git_flow.png?raw=1)"
   ]
  },
  {
   "cell_type": "markdown",
   "metadata": {
    "id": "oHByoQgBULrd"
   },
   "source": [
    "#### Comandos básicos en la terminal"
   ]
  },
  {
   "cell_type": "markdown",
   "metadata": {
    "id": "_O4DNdmMULrd"
   },
   "source": [
    "* pwd (nos señala la ruta actual de trabajo)\n",
    "* clear (borra el historial de comandos)\n",
    "* ls (list files)\n",
    "* cd (change directory)\n",
    "* mkdir (crea una carpeta con el nombre que se indique)\n",
    "* rm (Borra archivos)"
   ]
  },
  {
   "cell_type": "markdown",
   "metadata": {
    "id": "tCZ7Vhv2ULrd"
   },
   "source": [
    "#### Comandos básicos en Git"
   ]
  },
  {
   "cell_type": "markdown",
   "metadata": {
    "id": "XMNRdfNeULrd"
   },
   "source": [
    "* git config --global user.name \"Pongan su nombre\" <- comando para cambiar el nombre\n",
    "* git config --global user.email \"Pongan su correo\" <- comando para poner el correo electrónico de una cuenta de github\n"
   ]
  },
  {
   "cell_type": "markdown",
   "metadata": {
    "id": "FN7j1lQOULrd"
   },
   "source": [
    "#### Haciendo una copia local del repositorio de la clase"
   ]
  },
  {
   "cell_type": "markdown",
   "metadata": {
    "id": "NRpjs45rULrd"
   },
   "source": [
    "* Paso 1: abrir la terminal o git bash\n",
    "* Paso 2: con _cd_ ir a la carpeta en que queremos copiar el repo de la clase\n",
    "* Paso 3: _git clone_ https://github.com/benjov/Econometria-II-2025"
   ]
  },
  {
   "cell_type": "markdown",
   "metadata": {
    "id": "2sUm5H27ULrd"
   },
   "source": [
    "#### Actualizando el repositorio de la clase"
   ]
  },
  {
   "cell_type": "markdown",
   "metadata": {
    "id": "ZaLmLybOULrd"
   },
   "source": [
    "* Paso 1: abrir la terminal o git bash\n",
    "* Paso 2: con _cd_ ir a la carpeta donde se encuentra el repo clonado\n",
    "* Paso 3: _git pull origin master_"
   ]
  },
  {
   "cell_type": "markdown",
   "metadata": {
    "id": "WC2NWS52ULre"
   },
   "source": [
    "## 1.- Motivación: ¿Por qué aprender python?"
   ]
  },
  {
   "cell_type": "markdown",
   "metadata": {
    "id": "7qOOYXHaULre"
   },
   "source": [
    "![Languages](https://graffersid.com/wp-content/uploads/2022/08/data-from-Statista.png)"
   ]
  },
  {
   "cell_type": "markdown",
   "metadata": {
    "id": "459XWs0tULre"
   },
   "source": [
    "![Popularity](https://github.com/benjov/Econometria-II-2024/blob/main/Clase_intro_ToolBox/languages.png?raw=1)"
   ]
  },
  {
   "cell_type": "markdown",
   "metadata": {
    "id": "luoUFiPIULre"
   },
   "source": [
    "### Cómo las grandes empresas utilizan Python\n",
    "\n",
    "Una buena parte de las posibilidades de trabajo con __python__ se concentran en desarrollo de *IOT*, *IA*, *Backend* y *Data Science*.\n",
    "\n",
    "* [Netflix](https://netflixtechblog.com/python-at-netflix-86b6028b3b3e)\n",
    "* [Uber](https://eng.uber.com/tech-stack-part-one-foundation/)\n",
    "* [Spotify](https://engineering.atspotify.com/2013/03/how-we-use-python-at-spotify/)\n",
    "* [Instagram](https://instagram-engineering.com/web-service-efficiency-at-instagram-with-python-4976d078e366)"
   ]
  },
  {
   "cell_type": "markdown",
   "metadata": {
    "id": "YL9amLJjULre"
   },
   "source": [
    "### Historia de python\n",
    "\n",
    "http://python-history.blogspot.com/2009/01/brief-timeline-of-python.html"
   ]
  },
  {
   "cell_type": "markdown",
   "metadata": {
    "id": "tOGuc-pvULre"
   },
   "source": [
    "## 2.- Introducción a la programación con python"
   ]
  },
  {
   "cell_type": "code",
   "execution_count": null,
   "metadata": {
    "id": "sBN0lgPrULre",
    "outputId": "c0dbcadb-fcec-4977-c761-c30f3a14534a"
   },
   "outputs": [],
   "source": [
    "print(\"Hello world!\")"
   ]
  },
  {
   "cell_type": "markdown",
   "metadata": {
    "id": "jKA6qySjULrf"
   },
   "source": [
    "### Semántica y Sintaxys"
   ]
  },
  {
   "cell_type": "markdown",
   "metadata": {
    "id": "-48DutJsULrf"
   },
   "source": [
    "Los lenguajes de programación contienen ciertas palabras \"clave\" que son fundamentales para escribir instrucciones\n",
    " - and                      - del                    - global                - not                     - with\n",
    " - as                       - elif                   - if                    - or                      - yield\n",
    " - asser                    - else                   - import                - pass                    - False\n",
    " - break                    - except                 - in                    - raise                   - True\n",
    " - class                    - finally                - is                    - return                  - None\n",
    " - continue                 - for                    - lambda                - try\n",
    " - def                      - from                   - nonlocal              - while"
   ]
  },
  {
   "cell_type": "markdown",
   "metadata": {
    "id": "P_zhB29JULrg"
   },
   "source": [
    "Por otro lado también existen las funciones\n",
    "\n",
    "- abs()                     - delattr()              - hash()                - memoryview()            - set()\n",
    "\n",
    "- all()                     - dict()                 - help()                - min()                   - setattr()\n",
    "\n",
    "- any()                     - dir()                  - hex()                 - next()                  - slice()\n",
    "\n",
    "- ascii()                   - divmod()               - id()                  - object()                - sorted()\n",
    "\n",
    "- bin()                     - enumerate()            - input()               - oct()                   - staticmethod()\n",
    "\n",
    "- bool()                    - eval()                 - int()                 - open()                  - str()\n",
    "\n",
    "- breakpoint()              - exec()                 - isinstance()          - ord()                   - sum()\n",
    "\n",
    "- bytearray()               - filter()               - issubclass()          - pow()                   - super()\n",
    "\n",
    "- bytes()                   - float()                - iter()                - print()                 - tuple()\n",
    "\n",
    "- callable()                - format()               - len()                 - property()              - type()\n",
    "\n",
    "- chr()                     - frozenset()            - list()                - range()                 - vars()\n",
    "\n",
    "- classmethod()             - getattr()              - locals()              - repr()                  - zip()\n",
    "\n",
    "- compile()                 - globals()              - map()                 - reversed()              - _ _import_ _()\n",
    "\n",
    "- complex()                  - hasattr()             - max()                 - round()\n",
    "\n"
   ]
  },
  {
   "cell_type": "markdown",
   "metadata": {
    "id": "7xr6dh8wULrg"
   },
   "source": [
    "La combinación _correcta_ de funciones y de palabras clave construyen la lista de instrucciones que queremos que se realicen. \n",
    "\n",
    "Es también importante considerar que Python es _\"case sensitive\"_, lo que significa que en cualquier parte del código la diferenciación entre minusculas y mayúsculas es fundamental."
   ]
  },
  {
   "cell_type": "markdown",
   "metadata": {
    "id": "kvmgXEfaULrg"
   },
   "source": [
    "### Operadores matemáticos"
   ]
  },
  {
   "cell_type": "markdown",
   "metadata": {
    "id": "Wc9lJHUkULrg"
   },
   "source": [
    "* Suma y resta"
   ]
  },
  {
   "cell_type": "code",
   "execution_count": null,
   "metadata": {
    "id": "hemUEybzULrg",
    "outputId": "def53d07-9ce0-4ca4-cc84-0764a8fd4fae"
   },
   "outputs": [],
   "source": [
    "print(5+5-2)"
   ]
  },
  {
   "cell_type": "markdown",
   "metadata": {
    "id": "iL0i6oB8ULrg"
   },
   "source": [
    "* Multiplicación y división"
   ]
  },
  {
   "cell_type": "code",
   "execution_count": null,
   "metadata": {
    "id": "NN4fDSdiULrg",
    "outputId": "b6b5d705-34fa-4d60-f253-3ef861e96f18"
   },
   "outputs": [],
   "source": [
    "print(7*8/2)"
   ]
  },
  {
   "cell_type": "markdown",
   "metadata": {
    "id": "QTR6mtymULrg"
   },
   "source": [
    "* Potencia"
   ]
  },
  {
   "cell_type": "code",
   "execution_count": null,
   "metadata": {
    "id": "_zyEK8YkULrg",
    "outputId": "5d8aca7a-5d64-4e16-fc18-8838713ae30c"
   },
   "outputs": [],
   "source": [
    "print((5**5)**(1/2))"
   ]
  },
  {
   "cell_type": "markdown",
   "metadata": {
    "id": "c-vgZwoNULrg"
   },
   "source": [
    "* La parte entera de una división"
   ]
  },
  {
   "cell_type": "code",
   "execution_count": null,
   "metadata": {
    "id": "XJ1-qmcGULrg",
    "outputId": "080ee022-9e39-4490-a464-9a6ca5470765"
   },
   "outputs": [],
   "source": [
    "509//5"
   ]
  },
  {
   "cell_type": "markdown",
   "metadata": {
    "id": "wgXyEbuQULrg"
   },
   "source": [
    "* La parte residual de una división"
   ]
  },
  {
   "cell_type": "code",
   "execution_count": null,
   "metadata": {
    "id": "2r7Giw9LULrg",
    "outputId": "8c8d920e-3ebd-4109-82de-5595aa3a6e95"
   },
   "outputs": [],
   "source": [
    "509%5"
   ]
  },
  {
   "cell_type": "markdown",
   "metadata": {
    "id": "m1nJFIDPULrh"
   },
   "source": [
    "### Operadores lógicos"
   ]
  },
  {
   "cell_type": "markdown",
   "metadata": {
    "id": "_gu8TtG8ULrh"
   },
   "source": [
    "* Exactamente igual"
   ]
  },
  {
   "cell_type": "code",
   "execution_count": null,
   "metadata": {
    "id": "qVPGfaiSULrh",
    "outputId": "5a97e0dc-10c4-4091-efc1-822f76052b14"
   },
   "outputs": [],
   "source": [
    "print(4 == 4.5)"
   ]
  },
  {
   "cell_type": "markdown",
   "metadata": {
    "id": "SQPoWPJgULrh"
   },
   "source": [
    "* Distinto"
   ]
  },
  {
   "cell_type": "code",
   "execution_count": null,
   "metadata": {
    "id": "B106CyImULrh",
    "outputId": "43b79e02-fdfc-4f61-b8a0-0510568f5bab"
   },
   "outputs": [],
   "source": [
    "print(4 != 4.5)"
   ]
  },
  {
   "cell_type": "markdown",
   "metadata": {
    "id": "lDwJYnqGULrh"
   },
   "source": [
    "* Mayor/menor o igual que"
   ]
  },
  {
   "cell_type": "code",
   "execution_count": null,
   "metadata": {
    "id": "0mZr5QG7ULrh",
    "outputId": "d03968b6-2e51-4c13-8017-a2f19dc08d61"
   },
   "outputs": [],
   "source": [
    "print(4 >= 4.5)"
   ]
  },
  {
   "cell_type": "markdown",
   "metadata": {
    "id": "DWR0oIKvULri"
   },
   "source": [
    "* Menor/mayor que"
   ]
  },
  {
   "cell_type": "code",
   "execution_count": null,
   "metadata": {
    "id": "Mg6E-MUzULri",
    "outputId": "d9fc9686-fdbf-4f4d-ffe5-8186239a8d15"
   },
   "outputs": [],
   "source": [
    "print(4<4)"
   ]
  },
  {
   "cell_type": "markdown",
   "metadata": {
    "id": "T6MyfTcuULri"
   },
   "source": [
    "* Union"
   ]
  },
  {
   "cell_type": "code",
   "execution_count": null,
   "metadata": {
    "id": "oH6wBZ1FULri",
    "outputId": "f0ceb13d-c7c2-4530-94c7-6ba84bd830bc"
   },
   "outputs": [],
   "source": [
    "print(\"Azul\"!=\"Verde\" or 2+2==5)"
   ]
  },
  {
   "cell_type": "markdown",
   "metadata": {
    "id": "Tmaw3xspULri"
   },
   "source": [
    "* Interseccion"
   ]
  },
  {
   "cell_type": "code",
   "execution_count": null,
   "metadata": {
    "id": "NEt-heQ-ULri",
    "outputId": "deb30572-893d-4c56-f3e6-13b6746fe93f"
   },
   "outputs": [],
   "source": [
    "print(\"Azul\"!=\"Verde\" and 2+2==5)"
   ]
  },
  {
   "cell_type": "markdown",
   "metadata": {
    "id": "V78PSmzhULri"
   },
   "source": [
    "* Complemento"
   ]
  },
  {
   "cell_type": "code",
   "execution_count": null,
   "metadata": {
    "id": "B7QyurkuULri",
    "outputId": "d7db7329-c28c-444a-acf9-4c90d731cd4d"
   },
   "outputs": [],
   "source": [
    "print(not 2+2==5)"
   ]
  },
  {
   "cell_type": "markdown",
   "metadata": {
    "id": "iPlQZdSXULri"
   },
   "source": [
    "### Tipos de datos"
   ]
  },
  {
   "cell_type": "markdown",
   "metadata": {
    "id": "7t3B_VZ9ULri"
   },
   "source": [
    "* String: cadenas de texto"
   ]
  },
  {
   "cell_type": "code",
   "execution_count": null,
   "metadata": {
    "id": "AR4fU2rxULri",
    "outputId": "e2b0aef7-ebc4-4016-c43e-20ceb5da43f2"
   },
   "outputs": [],
   "source": [
    "a = \"123\"\n",
    "print(a)\n",
    "type(a)"
   ]
  },
  {
   "cell_type": "markdown",
   "metadata": {
    "id": "9t9hLZmtULri"
   },
   "source": [
    "* Interger: numeros enteros"
   ]
  },
  {
   "cell_type": "code",
   "execution_count": null,
   "metadata": {
    "id": "Msb1uFm2ULri",
    "outputId": "6619bed9-4809-4ee7-f90c-20faeea24796"
   },
   "outputs": [],
   "source": [
    "a = 450\n",
    "print(type(a))"
   ]
  },
  {
   "cell_type": "markdown",
   "metadata": {
    "id": "azC_wFp6ULri"
   },
   "source": [
    "* Float: numeros decimales"
   ]
  },
  {
   "cell_type": "code",
   "execution_count": null,
   "metadata": {
    "id": "wlqojDTlULrj",
    "outputId": "afe743c3-d973-474f-e4d5-c23838d83085"
   },
   "outputs": [],
   "source": [
    "a = 3.1416\n",
    "print(type(a))"
   ]
  },
  {
   "cell_type": "markdown",
   "metadata": {
    "id": "TM7ByyFoULrj"
   },
   "source": [
    "* Boolean: comunmente son los resultados de aplicar operadores logicos"
   ]
  },
  {
   "cell_type": "code",
   "execution_count": null,
   "metadata": {
    "id": "nbg9Hjd6ULrj",
    "outputId": "626ccc3a-4fc3-418a-8df7-bf79ca531eec"
   },
   "outputs": [],
   "source": [
    "a = \"Python\" < \"python\"\n",
    "print(a)\n",
    "type(a)"
   ]
  },
  {
   "cell_type": "code",
   "execution_count": null,
   "metadata": {
    "id": "QS7LM7arULrj",
    "outputId": "54d1c2cf-e537-4210-f171-8fa1b3af484c"
   },
   "outputs": [],
   "source": [
    "print(c+d)"
   ]
  },
  {
   "cell_type": "code",
   "execution_count": null,
   "metadata": {
    "id": "LMFJuxB8ULrj",
    "outputId": "a2781665-d402-49c1-f4d8-2d21fd28a08c"
   },
   "outputs": [],
   "source": [
    "print(type('c+d'))"
   ]
  },
  {
   "cell_type": "markdown",
   "metadata": {
    "id": "ZkobUaIGULrj"
   },
   "source": [
    "### Asignaciones"
   ]
  },
  {
   "cell_type": "markdown",
   "metadata": {
    "id": "dS3G4_hzULrj"
   },
   "source": [
    "Para asignar información a un objeto, utilizamos el operador que nos ayuda a hacer declaraciones _\"=\"_"
   ]
  },
  {
   "cell_type": "code",
   "execution_count": null,
   "metadata": {
    "id": "U8GjeG35ULrj",
    "outputId": "6bf4b02b-6fe3-4792-c52b-b717a0fbf88e"
   },
   "outputs": [],
   "source": [
    "a = \"Estoy asignando un string\"\n",
    "# variable = valor\n",
    "print(a)"
   ]
  },
  {
   "cell_type": "markdown",
   "metadata": {
    "id": "sDR_GeSAULrj"
   },
   "source": [
    " #### Algunas reglas para elegir el nombre de variables\n",
    "\n",
    " * No utilizar palabras clave o funciones que python ya tiene asignados\n",
    " * No usar espacios en los nombres de las variables\n",
    " * El nombre de las variables debe comenzar con una letra o con un guión bajo \"_\"\n"
   ]
  },
  {
   "cell_type": "code",
   "execution_count": null,
   "metadata": {
    "id": "W6xhAGADULrj"
   },
   "outputs": [],
   "source": [
    "VAR_PIB_2020 = -0.089"
   ]
  },
  {
   "cell_type": "code",
   "execution_count": null,
   "metadata": {
    "id": "SHOcEKU-ULrj"
   },
   "outputs": [],
   "source": [
    "_VAR_INPC = 0.032"
   ]
  },
  {
   "cell_type": "code",
   "execution_count": null,
   "metadata": {
    "id": "4k8u6tahULrj",
    "outputId": "e81a9d8b-5c46-4e4a-98d1-28ca7d3e2937"
   },
   "outputs": [],
   "source": [
    "_VAR_INPC"
   ]
  },
  {
   "cell_type": "markdown",
   "metadata": {
    "id": "VTRPM-8XULrj"
   },
   "source": [
    "### Tipos de secuencias"
   ]
  },
  {
   "cell_type": "markdown",
   "metadata": {
    "id": "zTtEGc2rULrj"
   },
   "source": [
    "Las secuencias son basicamente lo que nos permite agrupar datos dentro de una misma variable"
   ]
  },
  {
   "cell_type": "markdown",
   "metadata": {
    "id": "JrhzDdtgULrj"
   },
   "source": [
    "* Tupla: no modificable, puede contener distintos tipos de datos. Se generan poniendo conjuntos de datos entre paréntesis _'()'_"
   ]
  },
  {
   "cell_type": "code",
   "execution_count": null,
   "metadata": {
    "id": "Ay9B5UbBULrj",
    "outputId": "cc134653-bd28-4e9f-af0e-ba89222f4edc"
   },
   "outputs": [],
   "source": [
    "x = (10,\"miércoles\", 2021, \"marzo\")\n",
    "\n",
    "x"
   ]
  },
  {
   "cell_type": "code",
   "execution_count": null,
   "metadata": {},
   "outputs": [],
   "source": [
    "type(x)"
   ]
  },
  {
   "cell_type": "markdown",
   "metadata": {
    "id": "AA9CiCD4ULrj"
   },
   "source": [
    "* Lista: a diferencia de las tupla, las listas pueden son modificables, esto quiere decir que se les puede agregar nuevos datos. Se generan poniendo conjutos de datos entre corchetes _'[]'_ o utlizando la función list()."
   ]
  },
  {
   "cell_type": "code",
   "execution_count": null,
   "metadata": {
    "id": "lzga15nQULrj",
    "outputId": "a2e95d42-6599-4e6f-d749-4af922a5a376"
   },
   "outputs": [],
   "source": [
    "x = [22, \"miércoles\", 2022, \"febrero\"]\n",
    "\n",
    "x"
   ]
  },
  {
   "cell_type": "code",
   "execution_count": null,
   "metadata": {},
   "outputs": [],
   "source": [
    "type(x)"
   ]
  },
  {
   "cell_type": "code",
   "execution_count": null,
   "metadata": {
    "id": "HCCaBUd2ULrk",
    "outputId": "c5bf19ca-bd60-4583-da9c-be77f88cfb43"
   },
   "outputs": [],
   "source": [
    "x.append(\"Econometría II\") #sintaxys para agregar elementos\n",
    "\n",
    "x"
   ]
  },
  {
   "cell_type": "markdown",
   "metadata": {
    "id": "png5b8VeULrk"
   },
   "source": [
    "Los Corchetes son de gran ayuda para acceder a partes especificias de una lusta o tupla"
   ]
  },
  {
   "cell_type": "code",
   "execution_count": null,
   "metadata": {
    "id": "F4RzgoUrULrk",
    "outputId": "6c56bd0e-fa57-4ae0-c9ab-1fff8e556b6b"
   },
   "outputs": [],
   "source": [
    "x[0]"
   ]
  },
  {
   "cell_type": "markdown",
   "metadata": {
    "id": "Qqfxd7IJULrk"
   },
   "source": [
    "Al utilizar la suma entre dos listas, el resultado es una lista que concatena ambas listas"
   ]
  },
  {
   "cell_type": "code",
   "execution_count": null,
   "metadata": {
    "id": "8-EoY5VDULrk",
    "outputId": "8f14e85c-8809-491c-fbda-5486940ff5e8"
   },
   "outputs": [],
   "source": [
    "[1,3,5,7,11,13] + [5,7]"
   ]
  },
  {
   "cell_type": "markdown",
   "metadata": {
    "id": "7Ab6DYRjULrk"
   },
   "source": [
    "Al utilizar la multiplicación en una lista, el resultado es la repetición de _n_ veces esa lista"
   ]
  },
  {
   "cell_type": "code",
   "execution_count": null,
   "metadata": {
    "id": "yJ7HQUwYULrk",
    "outputId": "26e255e1-bffe-43b3-ab26-47d2905f44c2"
   },
   "outputs": [],
   "source": [
    "[1,3,5,7]*3"
   ]
  },
  {
   "cell_type": "markdown",
   "metadata": {
    "id": "zE5fl44pULrk"
   },
   "source": [
    "* Diccionarios\n",
    "\n",
    "Los diccionarios son colecciones que contienen datos que se encuentran relacionados"
   ]
  },
  {
   "cell_type": "code",
   "execution_count": null,
   "metadata": {
    "id": "QZmAQHWjULrk",
    "outputId": "b55d9f48-d7c0-4526-f3f4-539ae6a097b3"
   },
   "outputs": [],
   "source": [
    "Sesiones = { \"Semana 1\":\"Repaso parte 1\", \n",
    "             \"Semana 2\":\"Repaso parte 2\", \n",
    "             \"Semana 3\":\"Introducción a Python\" }\n",
    "\n",
    "Sesiones"
   ]
  },
  {
   "cell_type": "markdown",
   "metadata": {
    "id": "2EAdJqInULrk"
   },
   "source": [
    "### Funciones, estructuras de control y librerias\n",
    "\n",
    "Las funciones y estructuras de control son elementos dentro de los lenguajes de programacion que nos ayudan a sistematizar tareas repetitivas o que constantemente usaremos."
   ]
  },
  {
   "cell_type": "code",
   "execution_count": null,
   "metadata": {
    "colab": {
     "base_uri": "https://localhost:8080/"
    },
    "id": "esk8i8lJULrk",
    "outputId": "a1a585d9-3481-4a56-9b7d-f14d37913bf7"
   },
   "outputs": [],
   "source": [
    "lista = [1,2,3,4,5,6,7,8,9,10]\n",
    "\n",
    "lista"
   ]
  },
  {
   "cell_type": "code",
   "execution_count": null,
   "metadata": {},
   "outputs": [],
   "source": [
    "max(lista)"
   ]
  },
  {
   "cell_type": "code",
   "execution_count": null,
   "metadata": {},
   "outputs": [],
   "source": [
    "lista.append(11)"
   ]
  },
  {
   "cell_type": "code",
   "execution_count": null,
   "metadata": {},
   "outputs": [],
   "source": [
    "lista"
   ]
  },
  {
   "cell_type": "markdown",
   "metadata": {},
   "source": [
    "¿Qué métodos puedo aplicarle a un objeto de Python?\n",
    "\n",
    "La forma más inmedianta de saberlo es con _dir()_"
   ]
  },
  {
   "cell_type": "code",
   "execution_count": null,
   "metadata": {},
   "outputs": [],
   "source": [
    "dir(lista)"
   ]
  },
  {
   "cell_type": "code",
   "execution_count": null,
   "metadata": {},
   "outputs": [],
   "source": [
    "max(lista)"
   ]
  },
  {
   "cell_type": "code",
   "execution_count": null,
   "metadata": {},
   "outputs": [],
   "source": [
    "lista.__class__"
   ]
  },
  {
   "cell_type": "markdown",
   "metadata": {
    "id": "ujjVyu-BULrk"
   },
   "source": [
    "En caso de que las funciones que vienen precargadas en python no sean suficiente, siempre existe la posibilidad de crear nuestras propias funciones"
   ]
  },
  {
   "cell_type": "code",
   "execution_count": null,
   "metadata": {
    "colab": {
     "base_uri": "https://localhost:8080/",
     "height": 53
    },
    "id": "tHaFsWzhULrk",
    "outputId": "e3850135-d12e-4280-f9a4-68b269a8cde4"
   },
   "outputs": [],
   "source": [
    "#\n",
    "def saludar_alumno():\n",
    "    alumno = input(\"Hola, ¿cuál es tu nombre? \")\n",
    "    mensaje = str (\"Buenos días, \" + str(alumno) + \". Espero que disfrutes este curso.\")\n",
    "    #Esto se conoce como \"identation\" (sangría)\n",
    "    return mensaje"
   ]
  },
  {
   "cell_type": "code",
   "execution_count": null,
   "metadata": {},
   "outputs": [],
   "source": [
    "saludar_alumno()"
   ]
  },
  {
   "cell_type": "code",
   "execution_count": null,
   "metadata": {
    "id": "fapNklOeULrk"
   },
   "outputs": [],
   "source": [
    "def pregunta_zoomestre():\n",
    "    respuesta = input(\"¿Extrañas las clases en línea? (Sí/No)\")\n",
    "    respuesta = respuesta.upper()\n",
    "    respuesta = respuesta.replace(\"Í\", \"I\")\n",
    "    if respuesta == \"SI\":\n",
    "        msj = \"Nosotros también. Pero estamos afortunadamente puedes tomar la clase desde donde gustes, aunque nos sentiremos felices de verte en el salón de clases\"\n",
    "    elif respuesta == \"NO\":\n",
    "        msj = \"Te entiendo, el café zapatista por las mañanas hace la vida más fácil.\"\n",
    "    else:\n",
    "        msj = \"Lo siento, no estabamos preparados para esa respuesta\"\n",
    "    return  msj"
   ]
  },
  {
   "cell_type": "code",
   "execution_count": null,
   "metadata": {
    "id": "OFES0Z0YULrk",
    "outputId": "de73b684-931a-49c1-b4d4-1d38be2fea80"
   },
   "outputs": [],
   "source": [
    "pregunta_zoomestre()"
   ]
  },
  {
   "cell_type": "markdown",
   "metadata": {
    "id": "Y7VJ6rg5ULrk"
   },
   "source": [
    "### Bucles"
   ]
  },
  {
   "cell_type": "markdown",
   "metadata": {
    "id": "gjNrLZOPULrk"
   },
   "source": [
    "* while"
   ]
  },
  {
   "cell_type": "code",
   "execution_count": null,
   "metadata": {
    "colab": {
     "base_uri": "https://localhost:8080/"
    },
    "id": "hqu-j5qwULrk",
    "outputId": "23652000-3862-4faf-e5d8-85bea73e3c56"
   },
   "outputs": [],
   "source": [
    "x = 10\n",
    "\n",
    "while x>0:\n",
    "    print(str(x) + \" es un número positivo \")\n",
    "    x=x-1"
   ]
  },
  {
   "cell_type": "markdown",
   "metadata": {
    "id": "iXmp2dTuULrk"
   },
   "source": [
    "* _for_ and _if_"
   ]
  },
  {
   "cell_type": "code",
   "execution_count": null,
   "metadata": {
    "colab": {
     "base_uri": "https://localhost:8080/"
    },
    "id": "63g0399IULrl",
    "outputId": "4785f763-06fa-49bf-bd16-f2a14585c11d"
   },
   "outputs": [],
   "source": [
    "numbers = range(10)\n",
    "\n",
    "for num in numbers:\n",
    "    if num>5:\n",
    "        print(str(num) + \" mayor a 5 \")\n",
    "    elif  num==5:\n",
    "        print(str(num) + \" es igual a 5 \")\n",
    "    else:\n",
    "        print(str(num) + \" es menor a 5 \")"
   ]
  },
  {
   "cell_type": "markdown",
   "metadata": {
    "id": "LjFtLygIULrl"
   },
   "source": [
    "### Librerias"
   ]
  },
  {
   "cell_type": "markdown",
   "metadata": {
    "id": "BL_LVxXZULrl"
   },
   "source": [
    "Las librerias son basicamente un esfuerzo colectivo por evitar que nos esforcemos por solucionar o desarrollar cuestiones que se encuentran resueltas. Son fundamentales para ayudarnos a realizar nuestro cometido, en un medio colaborativo es muy probable (principalmente cuando se es principiante) que alguien ya haya solucionado un problema al que nosotros nos enfrentamos, y en este tipo de ambientes de softwere libre es muy común que se haya decidido compartirla solución con la comunidad. A continuacion algunas de las librerias primordiales para trabajar en python."
   ]
  },
  {
   "cell_type": "markdown",
   "metadata": {
    "id": "Fd-514rOULrl"
   },
   "source": [
    "#### _Numpy_\n",
    "\n",
    "es una librería que nos permite realizar operaciones matemáticas de alto nivel y es de gran ayuda para realizar operaciones complejas de manera amable"
   ]
  },
  {
   "cell_type": "code",
   "execution_count": null,
   "metadata": {
    "id": "Ot_ZXDKQULrl"
   },
   "outputs": [],
   "source": [
    "#! pip install numpy\n",
    "import numpy as np"
   ]
  },
  {
   "cell_type": "code",
   "execution_count": null,
   "metadata": {
    "id": "6m7uZtbuULrl"
   },
   "outputs": [],
   "source": [
    "normal_dist = np.random.normal(2,1,100)"
   ]
  },
  {
   "cell_type": "code",
   "execution_count": null,
   "metadata": {
    "id": "AgOoUZ4pULrl",
    "outputId": "ffcb2c59-2e29-4ff9-b5d3-98e27726c89f"
   },
   "outputs": [],
   "source": [
    "np.log(normal_dist)"
   ]
  },
  {
   "cell_type": "markdown",
   "metadata": {
    "id": "8PCFPitoULrl"
   },
   "source": [
    "##### Arrays\n",
    "Los array son un tipo de objeto que puede contener datos acomodados como lo que nosotros conocemos como matrices"
   ]
  },
  {
   "cell_type": "code",
   "execution_count": null,
   "metadata": {
    "id": "y-oXfoPwULrl",
    "outputId": "adfe4536-e02a-4ab4-fc37-29332956ca59"
   },
   "outputs": [],
   "source": [
    "lista = [1,3,5,7]\n",
    "x = np.array(lista)\n",
    "x"
   ]
  },
  {
   "cell_type": "markdown",
   "metadata": {
    "id": "fGE1bABnULrl"
   },
   "source": [
    "#### Pandas\n",
    "Pandas es una extensión de numpy. Se trata de una de las librerías más utilizadas de python, dado el gran poder de manipulación de datos que permite en los objetos de tipo _data frame_."
   ]
  },
  {
   "cell_type": "code",
   "execution_count": null,
   "metadata": {
    "id": "Yai9o-7kULrl"
   },
   "outputs": [],
   "source": [
    "import pandas as pd"
   ]
  },
  {
   "cell_type": "markdown",
   "metadata": {
    "id": "UqPYubOGULrl"
   },
   "source": [
    "## 3.- Ejemplo práctico: Francis Galton y la regresión a la media"
   ]
  },
  {
   "cell_type": "markdown",
   "metadata": {
    "id": "71zSGeRiULrl"
   },
   "source": [
    "“Cada peculiaridad en un hombre es compartida por sus descendientes, pero en media, en un\n",
    "grado menor.”\n",
    "\n",
    "$\\hat{Y} = \\hat{\\beta}_{0} + \\sum \\limits _{j=1} ^{p} X_{j}\\hat{\\beta}_{j}$\n",
    "\n",
    "Lectura de la base de datos"
   ]
  },
  {
   "cell_type": "code",
   "execution_count": null,
   "metadata": {},
   "outputs": [],
   "source": [
    "import pandas as pd"
   ]
  },
  {
   "cell_type": "code",
   "execution_count": null,
   "metadata": {
    "colab": {
     "base_uri": "https://localhost:8080/",
     "height": 354
    },
    "id": "X5mU7JmgULrl",
    "outputId": "c896ea52-9e65-475b-b643-d5a1fd7707dd"
   },
   "outputs": [],
   "source": [
    "url = \"https://josephsalmon.eu/enseignement/TELECOM/MDI720/datasets/Galton.txt\"\n",
    "df = pd.read_csv(url, sep = \"\\t\")\n",
    "df.head(10)"
   ]
  },
  {
   "cell_type": "code",
   "execution_count": null,
   "metadata": {},
   "outputs": [],
   "source": [
    "df.tail(6)"
   ]
  },
  {
   "cell_type": "code",
   "execution_count": null,
   "metadata": {
    "id": "PaviynplULrl",
    "outputId": "4ee5354a-9c8d-4405-8bd6-ec4fcf2ca9b8"
   },
   "outputs": [],
   "source": [
    "type(df)"
   ]
  },
  {
   "cell_type": "markdown",
   "metadata": {
    "id": "X1220bdzULrl"
   },
   "source": [
    "Convertimos la altura de pulgadas a centimetros"
   ]
  },
  {
   "cell_type": "code",
   "execution_count": null,
   "metadata": {},
   "outputs": [],
   "source": [
    "df.Kids"
   ]
  },
  {
   "cell_type": "code",
   "execution_count": null,
   "metadata": {
    "colab": {
     "base_uri": "https://localhost:8080/",
     "height": 206
    },
    "id": "ldU5nQpmULrl",
    "outputId": "92bacb61-b52b-4b12-e595-3ece12ff7ca1"
   },
   "outputs": [],
   "source": [
    "df[['Father', 'Mother', 'Height']] = df[['Father', 'Mother', 'Height']]*2.54\n",
    "df.head(10)"
   ]
  },
  {
   "cell_type": "code",
   "execution_count": null,
   "metadata": {},
   "outputs": [],
   "source": [
    "df.iloc[2:4]"
   ]
  },
  {
   "cell_type": "markdown",
   "metadata": {
    "id": "_bckxlfvULrl"
   },
   "source": [
    "### Matplotlib and seaborn\n",
    "\n",
    "_Matplotlib_ y _Seaborn_ son de las librerías más utilizadas para la visualización de datos"
   ]
  },
  {
   "cell_type": "code",
   "execution_count": null,
   "metadata": {
    "id": "g1abnSsAULrl"
   },
   "outputs": [],
   "source": [
    "import matplotlib.pyplot as plt\n",
    "plt.style.use('ggplot')\n",
    "import seaborn as sns"
   ]
  },
  {
   "cell_type": "code",
   "execution_count": null,
   "metadata": {
    "id": "zmNCcA6hULrl",
    "outputId": "39107aee-0f09-40b4-b024-4f06df164c59"
   },
   "outputs": [],
   "source": [
    "sns.pairplot(df, hue='Gender')\n",
    "plt.show()"
   ]
  },
  {
   "cell_type": "code",
   "execution_count": null,
   "metadata": {
    "id": "N_QswjWuULrm"
   },
   "outputs": [],
   "source": [
    "import numpy as np\n",
    "\n",
    "X = np.array(df[[\"Father\", \"Mother\"]])\n",
    "\n",
    "Y = df[\"Height\"]"
   ]
  },
  {
   "cell_type": "code",
   "execution_count": null,
   "metadata": {},
   "outputs": [],
   "source": [
    "X"
   ]
  },
  {
   "cell_type": "code",
   "execution_count": null,
   "metadata": {},
   "outputs": [],
   "source": [
    "Y"
   ]
  },
  {
   "cell_type": "code",
   "execution_count": null,
   "metadata": {},
   "outputs": [],
   "source": [
    "Unos = np.ones(len(Y))\n",
    "Unos"
   ]
  },
  {
   "cell_type": "code",
   "execution_count": null,
   "metadata": {
    "id": "bvo2G9_JULrm",
    "outputId": "fd90d2ec-4d8d-4c81-da5c-f227a16df0d3"
   },
   "outputs": [],
   "source": [
    "#Unos = np.ones(len(Y))\n",
    "X_m = np.array([Unos, X[:,0], X[:,1]]).T\n",
    "X_m"
   ]
  },
  {
   "cell_type": "markdown",
   "metadata": {
    "id": "5WaW_qltULrm"
   },
   "source": [
    "Obtenermos los estimadores mediante la multiplicación de matrices\n",
    "\n",
    "$\\hat{\\beta} = (X^TX)^{-1}X^TY$"
   ]
  },
  {
   "cell_type": "code",
   "execution_count": null,
   "metadata": {
    "id": "uQo-xhu5ULrm"
   },
   "outputs": [],
   "source": [
    "beta_hat = np.linalg.inv(X_m.T.dot(X_m)).dot(X_m.T).dot(Y)"
   ]
  },
  {
   "cell_type": "code",
   "execution_count": null,
   "metadata": {
    "id": "Em57FMevULrm",
    "outputId": "3db017ab-0fdc-4b92-93fc-d24dedf9d23b"
   },
   "outputs": [],
   "source": [
    "X_m.T.dot(Y)"
   ]
  },
  {
   "cell_type": "markdown",
   "metadata": {
    "id": "MbEgAxYBULrm"
   },
   "source": [
    "$\\hat{\\beta} = [\\hat{\\beta}_0, \\hat{\\beta}_1,\\hat{\\beta}_2]$"
   ]
  },
  {
   "cell_type": "code",
   "execution_count": null,
   "metadata": {
    "id": "lS30g4WjULrm",
    "outputId": "2a9f8e5c-faea-4170-d17c-29b2db5da793"
   },
   "outputs": [],
   "source": [
    "beta_hat"
   ]
  },
  {
   "cell_type": "code",
   "execution_count": null,
   "metadata": {},
   "outputs": [],
   "source": [
    "56.666 + 0.37 * 176 + 0.28 * 165"
   ]
  },
  {
   "cell_type": "markdown",
   "metadata": {
    "id": "ogM2nVYYULrm"
   },
   "source": [
    "$\\hat{Y}_i = \\hat{\\beta}_i*X_i+u_i$"
   ]
  },
  {
   "cell_type": "code",
   "execution_count": null,
   "metadata": {
    "id": "8mil1DVxULrm",
    "outputId": "31747d64-2393-4880-fdf9-cc29a0cd1cd8"
   },
   "outputs": [],
   "source": [
    "y_hat = X_m.dot(beta_hat)\n",
    "e_hat = y_hat-Y\n",
    "e_hat.sum()"
   ]
  },
  {
   "cell_type": "markdown",
   "metadata": {
    "id": "r1ldg82hULrm"
   },
   "source": [
    "$Var({\\hat\\beta})= \\sigma^2(X^TX)^{-1}$\n",
    "\n",
    "$\\mathbf{e}'\\mathbf{e}/(n-K) = \\hat{\\sigma}^2$"
   ]
  },
  {
   "cell_type": "code",
   "execution_count": null,
   "metadata": {
    "id": "TJ_5DquZULrm"
   },
   "outputs": [],
   "source": [
    "sigma_2_hat = np.dot( np.transpose(e_hat), e_hat )/(len(e_hat) - len(beta_hat))"
   ]
  },
  {
   "cell_type": "code",
   "execution_count": null,
   "metadata": {},
   "outputs": [],
   "source": [
    "Var_beta_hat = np.diag( sigma_2_hat * np.linalg.inv(X_m.T.dot(X_m)) ) ** 0.5"
   ]
  },
  {
   "cell_type": "code",
   "execution_count": null,
   "metadata": {
    "id": "OBuZnLsfULrm",
    "outputId": "cddd659a-4df8-4371-b6d7-8db1b4da9ed1"
   },
   "outputs": [],
   "source": [
    "Var_beta_hat"
   ]
  },
  {
   "cell_type": "code",
   "execution_count": null,
   "metadata": {},
   "outputs": [],
   "source": [
    "beta_hat / Var_beta_hat"
   ]
  },
  {
   "cell_type": "markdown",
   "metadata": {
    "id": "TnIH_KCZULrm"
   },
   "source": [
    "### MCO con la librería statsmodel"
   ]
  },
  {
   "cell_type": "code",
   "execution_count": null,
   "metadata": {
    "id": "l3dmMUD5ULrm",
    "outputId": "172a500a-a7fd-498f-aad7-26d94d1d057b"
   },
   "outputs": [],
   "source": [
    "### MCO con la librería statsmodel\n",
    "import statsmodels.api as sm\n",
    "\n",
    "X_m = sm.add_constant(X)\n",
    "\n",
    "estimacion = sm.OLS(Y,X_m)\n",
    "est2 = estimacion.fit()\n",
    "print(est2.summary())"
   ]
  },
  {
   "cell_type": "code",
   "execution_count": null,
   "metadata": {
    "id": "giQrg5_2ULrm",
    "outputId": "5a7d9280-c8dd-47aa-d370-e060414982fb"
   },
   "outputs": [],
   "source": [
    "sns.jointplot(x=\"Mother\", y=\"Height\", data=df, kind='reg')\n",
    "sns.jointplot(x=\"Father\", y=\"Height\", data=df, kind='reg')"
   ]
  },
  {
   "cell_type": "markdown",
   "metadata": {
    "id": "OpMaKHEqULrm"
   },
   "source": [
    "## 4.- Resumen de la sesión"
   ]
  },
  {
   "cell_type": "markdown",
   "metadata": {
    "id": "JydtImHzULrm"
   },
   "source": [
    "* Revisamos como clonar el repo de la clase y el modo en que lo pueden actualizar cada que sea necesario así como la manera en que podemos seguir el curso sin necesidad de instalar programas en la computadora personal.\n",
    "* Motivos importantes para aprender python y aplicaciones principales\n",
    "* Algunos de los elementos más básicos de python\n",
    "    - Operadores matemáticos y lógicos\n",
    "    - Tipos de objetos y asignaciones\n",
    "    - Tipos de secuencias de datos\n",
    "    - Funciones, estructuras de control y librerías\n",
    "* Ejemplo práctico para llegar a la solución de mínimos cuadrados ordinarios con la librería numpy y statsmodels"
   ]
  },
  {
   "cell_type": "markdown",
   "metadata": {
    "id": "VGyOEZyeULrm"
   },
   "source": [
    "## 5.- Recursos para aprender Python"
   ]
  },
  {
   "cell_type": "markdown",
   "metadata": {
    "id": "HcHp2P1eULrm"
   },
   "source": [
    "### Cursos\n",
    "\n",
    "* Python for Everybody (Coursera & Michigan)\n",
    "* Statistics with Python (Coursera & Michigan)\n",
    "* Python for Data Science (Coursera & Michigan)\n",
    "* Certificado profesional de Ciencia de datos (IBM)\n"
   ]
  },
  {
   "cell_type": "markdown",
   "metadata": {
    "id": "VZI-RSfaULrn"
   },
   "source": [
    "### Libros\n",
    "\n",
    " * Python for everybody\n",
    " * Think python"
   ]
  },
  {
   "cell_type": "markdown",
   "metadata": {
    "id": "Z4lcKgdEULrn"
   },
   "source": [
    "### Recomendaciones\n",
    "\n",
    "* Saber programar en gran medida es saber leer errores, no se asusten por equivocarse. Aprendan de sus errores, suena muy trillado pero para programar es esencial\n",
    "* Buscar el error en _stack overflow_ siempre es de gran ayuda\n",
    "* Hagan proyectos colaborativos, aprovechen la oportunidad de aprender haciendo en equipo."
   ]
  },
  {
   "cell_type": "markdown",
   "metadata": {
    "id": "O42Ai0UdULrn"
   },
   "source": [
    "## 6.- Extra: solucion de problemas con python"
   ]
  },
  {
   "cell_type": "markdown",
   "metadata": {
    "id": "2sDbfGdYULrn"
   },
   "source": [
    "Planteamiento: en un tablero de ajedrez de 4x4 colocar 4 reinas de tal modo que no se hagan daño entre sí  "
   ]
  },
  {
   "cell_type": "markdown",
   "metadata": {
    "id": "ZfREXEB0ULrn"
   },
   "source": [
    "![NQueens](https://github.com/benjov/Econometria-II-2024/blob/main/Clase_intro_ToolBox/StepsNQueens04.png?raw=1)"
   ]
  },
  {
   "cell_type": "markdown",
   "metadata": {
    "id": "qw-XsBVDULrn"
   },
   "source": [
    "¿De qué manera podemos solucionar el problema para N =8)"
   ]
  },
  {
   "cell_type": "markdown",
   "metadata": {
    "id": "cQRK8IwpULrn"
   },
   "source": [
    "![8Queens](https://github.com/benjov/Econometria-II-2024/blob/main/Clase_intro_ToolBox/queens_attack_patterns.png?raw=1)"
   ]
  },
  {
   "cell_type": "code",
   "execution_count": null,
   "metadata": {
    "id": "YepNxf0qULrn",
    "outputId": "da849aae-ac9b-430c-e3a3-b3b2e16137b4"
   },
   "outputs": [],
   "source": [
    "from itertools import permutations\n",
    "\n",
    "N=8\n",
    "sol=0\n",
    "cols = range(N)\n",
    "for combo in permutations(cols):\n",
    "    if N==len(set(combo[i]+i for i in cols))==len(set(combo[i]-i for i in cols)):\n",
    "        sol += 1\n",
    "        print('Solution '+str(sol)+': '+str(combo)+'\\n')\n",
    "        print(\"\\n\".join(' o ' * i + ' X ' + ' o ' * (N-i-1) for i in combo) + \"\\n\\n\\n\\n\")"
   ]
  },
  {
   "cell_type": "code",
   "execution_count": null,
   "metadata": {},
   "outputs": [],
   "source": []
  },
  {
   "cell_type": "code",
   "execution_count": null,
   "metadata": {},
   "outputs": [],
   "source": []
  },
  {
   "cell_type": "code",
   "execution_count": null,
   "metadata": {},
   "outputs": [],
   "source": []
  }
 ],
 "metadata": {
  "colab": {
   "provenance": []
  },
  "interpreter": {
   "hash": "c124d607bc8f1cc156e803198ffd1035bd117c1fdcc88c31f981715e556c40a8"
  },
  "kernelspec": {
   "display_name": "Python 3 (ipykernel)",
   "language": "python",
   "name": "python3"
  },
  "language_info": {
   "codemirror_mode": {
    "name": "ipython",
    "version": 3
   },
   "file_extension": ".py",
   "mimetype": "text/x-python",
   "name": "python",
   "nbconvert_exporter": "python",
   "pygments_lexer": "ipython3",
   "version": "3.10.14"
  }
 },
 "nbformat": 4,
 "nbformat_minor": 1
}
