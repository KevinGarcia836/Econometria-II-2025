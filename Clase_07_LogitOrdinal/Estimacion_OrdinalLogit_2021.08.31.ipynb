{
 "cells": [
  {
   "cell_type": "markdown",
   "id": "59540590",
   "metadata": {},
   "source": [
    "# Estimación de la regresión logit-ordinal\n"
   ]
  },
  {
   "cell_type": "markdown",
   "id": "fcc68cfe",
   "metadata": {},
   "source": [
    "## Punto de partida\n",
    "\n",
    "### ¿Cuál es la probabilidad de éxito de un videojuego?\n",
    "\n",
    "**Depende de la definición de éxito**, digamos que es cuando los videojuegos generan ingresos anuales de entre 5 y 20 millones de USD (M USD)\n",
    "\n",
    "### ¿Cuáles son los determinantes de los ingresos?\n",
    "\n",
    "En la industria de los videojuegos, los ingresos dependen de las calificaciones de los videojuegos, los comentarios positivos, el número de seguidores en redes sociales y el tipo de tags que se les asigna en plataformas seguidas por los usuarios.\n",
    "\n",
    "Implementamos una regresión logit-ordinal para los grupos de ingresos netos en 1 año para los siguientes casos:\n",
    "\n",
    "1. Menos de 1 M USD\n",
    "2. Más de 1 M USD y menos de 5 M USD\n",
    "3. Más de 5 M USD y menos de 20 M USD\n",
    "4. Más de 20 M USD"
   ]
  },
  {
   "cell_type": "code",
   "execution_count": null,
   "id": "c8d41e67",
   "metadata": {},
   "outputs": [],
   "source": [
    "# Librerías necesarias\n",
    "import pandas as pd\n",
    "import numpy as np\n",
    "import seaborn as sns\n",
    "import matplotlib.pyplot as plt\n",
    "from statsmodels.miscmodels.ordinal_model import OrderedModel\n",
    "from sklearn.model_selection import train_test_split\n",
    "import statsmodels.api as sm\n",
    "sns.set(style=\"whitegrid\")\n",
    "\n",
    "# Omiting WARNINGS\n",
    "import warnings\n",
    "warnings.filterwarnings('ignore')"
   ]
  },
  {
   "cell_type": "markdown",
   "id": "dee5c2ef",
   "metadata": {},
   "source": [
    "### Datos en la tabla de Datos\n"
   ]
  },
  {
   "cell_type": "code",
   "execution_count": null,
   "id": "0bb687c8",
   "metadata": {},
   "outputs": [],
   "source": [
    "# Cargar datos\n",
    "datos = pd.read_csv(\"Datos.csv\", encoding = \"utf-8\")\n",
    "\n",
    "datos.head(5)"
   ]
  },
  {
   "cell_type": "code",
   "execution_count": null,
   "id": "a120d2d0",
   "metadata": {},
   "outputs": [],
   "source": [
    "# \n",
    "datos.shape"
   ]
  },
  {
   "cell_type": "code",
   "execution_count": null,
   "id": "9097d3d4",
   "metadata": {},
   "outputs": [],
   "source": [
    "#\n",
    "# Mostrar hasta 300 columnas (puedes cambiar ese número según lo que necesites)\n",
    "pd.set_option('display.max_columns', 100)"
   ]
  },
  {
   "cell_type": "code",
   "execution_count": null,
   "id": "df68a171",
   "metadata": {},
   "outputs": [],
   "source": [
    "#\n",
    "datos.head(5)"
   ]
  },
  {
   "cell_type": "markdown",
   "id": "15252f0f",
   "metadata": {},
   "source": [
    "### Tabla de frecuencias de la variable de categoría de ingresos"
   ]
  },
  {
   "cell_type": "code",
   "execution_count": null,
   "id": "efe62e57",
   "metadata": {},
   "outputs": [],
   "source": [
    "# Conteo de categorías en 'Cat Rev Year'\n",
    "datos['Cat Rev Year'].value_counts()"
   ]
  },
  {
   "cell_type": "code",
   "execution_count": null,
   "id": "fa989ee6",
   "metadata": {},
   "outputs": [],
   "source": [
    "# Convertir 'Cat Rev Year' en una variable categórica ordenada\n",
    "from pandas.api.types import CategoricalDtype\n",
    "\n",
    "orden = ['1. Menos de 1M', '2. Más de 1M y menos de 5M', '3. Más de 5M y menos de 20M', '4. Más de 20M']\n",
    "\n",
    "cat_tipo = CategoricalDtype(categories = orden, ordered = True)\n",
    "\n",
    "datos['Cat.Rev.P'] = datos['Cat Rev Year'].astype(cat_tipo)\n",
    "\n",
    "datos['Cat.Rev.P'].head()"
   ]
  },
  {
   "cell_type": "markdown",
   "id": "5e649ba5",
   "metadata": {},
   "source": [
    "### Create Categorical Vectors of Followers, etc..."
   ]
  },
  {
   "cell_type": "code",
   "execution_count": null,
   "id": "8892ab2c",
   "metadata": {},
   "outputs": [],
   "source": [
    "# Crear la variable 'positive_n' a partir de 'positive_year'\n",
    "datos['positive_n'] = 0\n",
    "datos.loc[datos['positive_year'] <= 4, 'positive_n'] = 1\n",
    "datos.loc[(datos['positive_year'] > 4) & (datos['positive_year'] <= 60), 'positive_n'] = 2\n",
    "datos.loc[datos['positive_year'] > 60, 'positive_n'] = 3\n",
    "datos['positive_n'] = datos['positive_n'].astype('category')\n",
    "\n",
    "# Crear la variable 'Followers_n' a partir de 'Followers_year'\n",
    "datos['Followers_n'] = 0\n",
    "datos.loc[datos['Followers_year'] <= 50, 'Followers_n'] = 1\n",
    "datos.loc[(datos['Followers_year'] > 50) & (datos['Followers_year'] <= 500), 'Followers_n'] = 2\n",
    "datos.loc[datos['Followers_year'] > 500, 'Followers_n'] = 3\n",
    "datos['Followers_n'] = datos['Followers_n'].astype('category')"
   ]
  },
  {
   "cell_type": "code",
   "execution_count": null,
   "id": "051b4022",
   "metadata": {},
   "outputs": [],
   "source": [
    "# Conteo de frecuencias\n",
    "datos['positive_n'].value_counts().sort_index()"
   ]
  },
  {
   "cell_type": "code",
   "execution_count": null,
   "id": "6173904e",
   "metadata": {},
   "outputs": [],
   "source": [
    "# Conteo de frecuencias\n",
    "datos['Followers_n'].value_counts().sort_index()"
   ]
  },
  {
   "cell_type": "markdown",
   "id": "6f90c433",
   "metadata": {},
   "source": [
    "### Tabla de Estadísticas Descriptivas"
   ]
  },
  {
   "cell_type": "code",
   "execution_count": null,
   "id": "55bde09d",
   "metadata": {},
   "outputs": [],
   "source": [
    "# Resumen estadístico\n",
    "datos[['revenue_year', 'Price', 'year', 'mes', 'Followers_year', 'Reviews_year']].describe()"
   ]
  },
  {
   "cell_type": "code",
   "execution_count": null,
   "id": "7182c8f5",
   "metadata": {},
   "outputs": [],
   "source": [
    "# \n",
    "datos['Cat.Rev.P'].value_counts(normalize = True)"
   ]
  },
  {
   "cell_type": "code",
   "execution_count": null,
   "id": "5ba8990f",
   "metadata": {},
   "outputs": [],
   "source": [
    "# Conteo de frecuencias\n",
    "datos['positive_n'].value_counts(normalize = True).sort_index()"
   ]
  },
  {
   "cell_type": "code",
   "execution_count": null,
   "id": "0e3dd853",
   "metadata": {},
   "outputs": [],
   "source": [
    "# Conteo de frecuencias\n",
    "datos['Followers_n'].value_counts(normalize = True).sort_index()"
   ]
  },
  {
   "cell_type": "markdown",
   "id": "c1c33fbd",
   "metadata": {},
   "source": [
    "### Select subset: \"1. Menos de 1M\""
   ]
  },
  {
   "cell_type": "code",
   "execution_count": null,
   "id": "b1ea3928",
   "metadata": {},
   "outputs": [],
   "source": [
    "# Filtrar los datos donde 'Cat.Rev.Year' es igual a \"1. Menos de 1M\"\n",
    "datos_menos_1m = datos[datos['Cat Rev Year'] == \"1. Menos de 1M\"]"
   ]
  },
  {
   "cell_type": "code",
   "execution_count": null,
   "id": "893b3d26",
   "metadata": {},
   "outputs": [],
   "source": [
    "# Resumen estadístico\n",
    "datos_menos_1m[['revenue_year', 'Price', 'year', 'mes', 'Followers_year', 'Reviews_year']].describe()"
   ]
  },
  {
   "cell_type": "code",
   "execution_count": null,
   "id": "eee9342b",
   "metadata": {},
   "outputs": [],
   "source": [
    "# Conteo de frecuencias\n",
    "datos_menos_1m['positive_n'].value_counts(normalize = True).sort_index()"
   ]
  },
  {
   "cell_type": "code",
   "execution_count": null,
   "id": "815bd28b",
   "metadata": {},
   "outputs": [],
   "source": [
    "# Conteo de frecuencias\n",
    "datos_menos_1m['Followers_n'].value_counts(normalize = True).sort_index()"
   ]
  },
  {
   "cell_type": "markdown",
   "id": "eced104e",
   "metadata": {},
   "source": [
    "### Select subset: \"1. Menos de 1M\" ~ 5% (1,700)\n",
    "\n",
    "¿Por qué razón reducimos la muestra? Un desbalance que afecta el resultado."
   ]
  },
  {
   "cell_type": "code",
   "execution_count": null,
   "id": "24c92e23",
   "metadata": {},
   "outputs": [],
   "source": [
    "#import numpy as np\n",
    "\n",
    "# Establecer semilla para reproducibilidad\n",
    "#np.random.seed(1234)\n",
    "\n",
    "# Seleccionar una muestra aleatoria de 1700 filas sin reemplazo\n",
    "datos_menos_1m_10p = datos_menos_1m.sample(n = 1700, replace = False, random_state = 1234)"
   ]
  },
  {
   "cell_type": "code",
   "execution_count": null,
   "id": "fb66db0a",
   "metadata": {},
   "outputs": [],
   "source": [
    "# Resumen estadístico\n",
    "datos_menos_1m_10p[['revenue_year', 'Price', 'year', 'mes', 'Followers_year', 'Reviews_year']].describe()"
   ]
  },
  {
   "cell_type": "code",
   "execution_count": null,
   "id": "abb487bc",
   "metadata": {},
   "outputs": [],
   "source": [
    "# Conteo de frecuencias\n",
    "datos_menos_1m_10p['positive_n'].value_counts(normalize = True).sort_index()"
   ]
  },
  {
   "cell_type": "code",
   "execution_count": null,
   "id": "776722f9",
   "metadata": {},
   "outputs": [],
   "source": [
    "# Conteo de frecuencias\n",
    "datos_menos_1m_10p['Followers_n'].value_counts(normalize = True).sort_index()"
   ]
  },
  {
   "cell_type": "markdown",
   "id": "4a786524",
   "metadata": {},
   "source": [
    "### Combine subsets: \"1. Menos de 1M\" ~ 5% (1,700) + \"El resto\""
   ]
  },
  {
   "cell_type": "code",
   "execution_count": null,
   "id": "0ab78fdd",
   "metadata": {},
   "outputs": [],
   "source": [
    "# Filtrar los datos donde 'Cat.Rev.Year' es diferente de \"1. Menos de 1M\"\n",
    "datos_otros = datos[datos['Cat Rev Year'] != \"1. Menos de 1M\"]\n",
    "\n",
    "# Combinar ambos subconjuntos en uno solo\n",
    "datos_subset = pd.concat([datos_menos_1m_10p, datos_otros], ignore_index = True)\n",
    "\n",
    "# Contar ocurrencias por categoría en 'Cat.Rev.Year'\n",
    "datos_subset['Cat Rev Year'].value_counts().sort_index()"
   ]
  },
  {
   "cell_type": "code",
   "execution_count": null,
   "id": "0696f8d8",
   "metadata": {},
   "outputs": [],
   "source": [
    "# Contar ocurrencias por categoría en 'Cat.Rev.Year'\n",
    "datos_subset['Cat Rev Year'].value_counts(normalize = True).sort_index()"
   ]
  },
  {
   "cell_type": "code",
   "execution_count": null,
   "id": "9b2a31c0",
   "metadata": {},
   "outputs": [],
   "source": [
    "# Resumen estadístico\n",
    "datos_subset[['revenue_year', 'Price', 'year', 'mes', 'Followers_year', 'Reviews_year']].describe()"
   ]
  },
  {
   "cell_type": "code",
   "execution_count": null,
   "id": "c5ebbb2a",
   "metadata": {},
   "outputs": [],
   "source": [
    "# Conteo de frecuencias\n",
    "datos_subset['positive_n'].value_counts(normalize = True).sort_index()"
   ]
  },
  {
   "cell_type": "code",
   "execution_count": null,
   "id": "9fb2d5b7",
   "metadata": {},
   "outputs": [],
   "source": [
    "# Conteo de frecuencias\n",
    "datos_subset['Followers_n'].value_counts(normalize = True).sort_index()"
   ]
  },
  {
   "cell_type": "markdown",
   "id": "61765bed",
   "metadata": {},
   "source": [
    "### Estimación (Running the ordered logit model) "
   ]
  },
  {
   "cell_type": "code",
   "execution_count": null,
   "id": "6aec7355",
   "metadata": {},
   "outputs": [],
   "source": [
    "# Define dependent and regresors variables\n",
    "X = datos_subset[[ 'Price', 'Score', 'Followers_n', 'positive_n', 'Adventure', 'Singleplayer', 'Story Rich', \n",
    "                   'Horror', '3D', 'Survival', 'Choices Matter', 'Historical', 'Mystery', 'Replay Value', \n",
    "                   'Early Access', 'Female Protagonist', 'Lovecraftian', 'Open World', 'Multiplayer', 'Co-op', \n",
    "                   'Indie', 'Atmospheric', 'Violent', 'Online Co-Op', 'Third Person', 'Sandbox', 'Strategy', \n",
    "                   'Difficult', 'Gore', 'Soundtrack', 'Great Soundtrack', 'Simulation', 'RPG', \n",
    "                   'Character Customization', 'Funny', 'Sci-fi', 'Exploration', 'Action', 'Sexual Content' ]]  \n",
    "\n",
    "y = datos_subset['Cat.Rev.P']"
   ]
  },
  {
   "cell_type": "code",
   "execution_count": null,
   "id": "f5fbb147",
   "metadata": {},
   "outputs": [],
   "source": [
    "# https://www.statsmodels.org/stable/generated/statsmodels.miscmodels.ordinal_model.OrderedModel.html\n",
    "modelo = OrderedModel(y, X, distr = 'logit')\n",
    "\n",
    "resultados = modelo.fit(method = 'bfgs')\n",
    "\n",
    "print(resultados.summary())"
   ]
  },
  {
   "cell_type": "code",
   "execution_count": null,
   "id": "ce88f1ee",
   "metadata": {},
   "outputs": [],
   "source": [
    "#\n",
    "import joblib  # para guardar el modelo\n",
    "\n",
    "# Guardar el modelo como archivo\n",
    "joblib.dump(resultados, 'OLM_01_model.pkl')"
   ]
  },
  {
   "cell_type": "markdown",
   "id": "94b229b0",
   "metadata": {},
   "source": [
    "### import model ans use in a example data"
   ]
  },
  {
   "cell_type": "code",
   "execution_count": null,
   "id": "b321beca",
   "metadata": {},
   "outputs": [],
   "source": [
    "# 1. Cargar el modelo desde el archivo\n",
    "modelo_cargado = joblib.load('OLM_01_model.pkl')"
   ]
  },
  {
   "cell_type": "code",
   "execution_count": null,
   "id": "2e9db793",
   "metadata": {},
   "outputs": [],
   "source": [
    "# 2. Crear el DataFrame de entrada (setup_01)\n",
    "setup_01 = pd.DataFrame([{\n",
    "    'Price': 24.99, 'Score': 9, 'Followers_n': 3, 'positive_n': 3,\n",
    "    'Adventure': 1, 'Singleplayer': 1, 'Story Rich': 0, 'Horror': 0, '3D': 1, 'Survival': 1,\n",
    "    'Choices Matter': 0, 'Historical': 0, 'Mystery': 0, 'Replay Value': 0, 'Early Access': 1, \n",
    "    'Female Protagonist': 0, 'Lovecraftian': 0, 'Open World': 1, 'Multiplayer': 1, 'Co-op': 1,\n",
    "    'Indie': 1, 'Atmospheric': 0, 'Violent': 0, 'Online Co-Op': 1, 'Third Person': 1, 'Sandbox': 1,\n",
    "    'Strategy': 0, 'Difficult': 0,  'Gore': 0, 'Soundtrack': 0, 'Great Soundtrack': 0, 'Simulation': 0, \n",
    "    'RPG': 1, 'Character Customization': 1, 'Funny': 0, 'Sci-fi': 0, 'Exploration': 0, 'Action': 1,\n",
    "    'Sexual Content': 0\n",
    "}]) \n",
    "\n",
    "# Convertir setup_01 a array de numpy\n",
    "exog_array = setup_01.to_numpy()"
   ]
  },
  {
   "cell_type": "code",
   "execution_count": null,
   "id": "da5a508e",
   "metadata": {},
   "outputs": [],
   "source": [
    "# 3. Predecir probabilidades para cada clase\n",
    "probabilidades = modelo_cargado.model.predict(modelo_cargado.params, exog = exog_array)"
   ]
  },
  {
   "cell_type": "code",
   "execution_count": null,
   "id": "bb76e333",
   "metadata": {},
   "outputs": [],
   "source": [
    "#\n",
    "probabilidades"
   ]
  },
  {
   "cell_type": "code",
   "execution_count": null,
   "id": "d54f9b57",
   "metadata": {},
   "outputs": [],
   "source": []
  }
 ],
 "metadata": {
  "kernelspec": {
   "display_name": "Python 3 (ipykernel)",
   "language": "python",
   "name": "python3"
  },
  "language_info": {
   "codemirror_mode": {
    "name": "ipython",
    "version": 3
   },
   "file_extension": ".py",
   "mimetype": "text/x-python",
   "name": "python",
   "nbconvert_exporter": "python",
   "pygments_lexer": "ipython3",
   "version": "3.10.14"
  }
 },
 "nbformat": 4,
 "nbformat_minor": 5
}
