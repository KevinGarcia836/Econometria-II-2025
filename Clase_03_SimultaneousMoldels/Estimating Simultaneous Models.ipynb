{
 "cells": [
  {
   "cell_type": "markdown",
   "metadata": {},
   "source": [
    "# Ejemplo de Sistemas de Ecuaciones"
   ]
  },
  {
   "cell_type": "markdown",
   "metadata": {},
   "source": [
    "## Planteamiento:\n",
    "\n",
    "Asumimos que tenemos observaciones de corte transversal independienntes e idénticamente distribuidas:\n",
    "\\begin{equation*}\n",
    "    \\{ \\mathbf{X}_i , \\mathbf{Y}_i ; i = 1, 2, \\ldots, N \\}\n",
    "\\end{equation*}\n",
    "\n",
    "Donde $\\mathbf{X}_i$ es una matriz $G \\times K$ y $\\mathbf{Y}_i$ es un vector $G \\times 1$. Así, la matriz $\\mathbf{X}_i$ continene todas las variables explicativas que aparecen en el sistema, para cada uno de los individuos indexados $i$:\n",
    "\\begin{equation}\n",
    "    \\mathbf{Y}_i = \\mathbf{Y}_i \\boldsymbol{\\beta} + \\boldsymbol{\\varepsilon}_i\n",
    "    \\label{Sist_Eqn_G}\n",
    "\\end{equation}\n",
    "\n",
    "Donde $\\boldsymbol{\\beta}$ es un vector $K \\times 1$ y $\\boldsymbol{\\varepsilon}_i$ es un vector $G \\times 1$. De esta forma en general tendríamos:\n",
    "\\begin{equation*}\n",
    "    \\mathbf{Y}_i = \n",
    "    \\begin{bmatrix}\n",
    "    y_{i1} \\\\\n",
    "    y_{i2} \\\\\n",
    "    \\vdots \\\\\n",
    "    y_{iG}\n",
    "    \\end{bmatrix}\n",
    "\\end{equation*}\n",
    "\n",
    "\\begin{equation*}\n",
    "    \\boldsymbol{\\varepsilon}_i = \n",
    "    \\begin{bmatrix}\n",
    "    \\varepsilon_{i1} \\\\\n",
    "    \\varepsilon_{i2} \\\\\n",
    "    \\vdots \\\\\n",
    "    \\varepsilon_{iG}\n",
    "    \\end{bmatrix}\n",
    "\\end{equation*}\n",
    "\n",
    "Donde $i = 1, 2, \\ldots, N$. \n",
    "\\begin{equation*}\n",
    "    \\boldsymbol{\\beta} = \n",
    "    \\begin{bmatrix}\n",
    "    \\boldsymbol{\\beta}_{1} \\\\\n",
    "    \\boldsymbol{\\beta}_{2} \\\\\n",
    "    \\vdots \\\\\n",
    "    \\boldsymbol{\\beta}_{G}\n",
    "    \\end{bmatrix}\n",
    "\\end{equation*}\n",
    "\n",
    "Par el caso particular de un modelo de ecuaciones simúltneas aparentemente no relacionadas que no compartan variables explicativas:\n",
    "\\begin{equation*}\n",
    "    \\mathbf{x}_{ig} = [x_{i1}, x_{i2}, \\ldots, x_{iK_g}]\n",
    "\\end{equation*}\n",
    "\n",
    "Así, podemos proponer que la matriz $\\mathbf{X}_i$ con dimensión $G \\times (K_1 + K_2 + \\ldots + K_G)$es de la forma:\n",
    "\\begin{equation*}\n",
    "    \\mathbf{X}_i = \n",
    "    \\begin{bmatrix}\n",
    "    \\mathbf{x}_{i1} \\\\\n",
    "    \\mathbf{x}_{i2} \\\\\n",
    "    \\vdots \\\\\n",
    "    \\mathbf{x}_{iG}\n",
    "    \\end{bmatrix} \\\\\n",
    "\\end{equation*}\n"
   ]
  },
  {
   "cell_type": "markdown",
   "metadata": {},
   "source": [
    "## Estimadores:\n",
    "\n",
    "El estimador de Mínimos Cuadrados Ordinarios estará dado por:\n",
    "\\begin{eqnarray*}\n",
    "    \\hat{\\boldsymbol{\\beta}}_{OLS} & = & (\\mathbf{X}' \\mathbf{X})^{-1} \\mathbf{X}' \\mathbf{Y}\n",
    "\\end{eqnarray*}\n",
    "\n",
    "El estimador de Mínimos Cuadrados Generalizados estará dado por:\n",
    "\\begin{eqnarray*}\n",
    "    \\hat{\\boldsymbol{\\beta}}_{GLS} & = & (\\mathbf{X}' \\Sigma^{-1} \\mathbf{X})^{-1} \\mathbf{X}' \\Sigma^{-1} \\mathbf{Y}\n",
    "\\end{eqnarray*}\n",
    "\n",
    "El estimador de Mínimos Cuadros Generalizados Factibles al siguiente:\n",
    "\\begin{equation*}\n",
    "    \\hat{\\hat{\\boldsymbol{\\beta}}} = (\\mathbf{X}' \\hat{\\Sigma}^{-1} \\mathbf{X})^{-1} \\mathbf{X}' \\hat{\\Sigma}^{-1} \\mathbf{Y}\n",
    "\\end{equation*}\n",
    "\n",
    "El estimador GMM:\n",
    "\\begin{equation}\n",
    "    \\hat{\\boldsymbol{\\beta}} = \\left( \\mathbf{X}' \\mathbf{Z} \\hat{\\mathbf{W}} \\mathbf{Z}' \\mathbf{X} \\right)^{-1} \\left( \\mathbf{X}' \\mathbf{Z} \\hat{\\mathbf{W}} \\mathbf{Z}' \\mathbf{Y} \\right)\n",
    "    \\label{GMM_System_Beta}\n",
    "\\end{equation}\n",
    "\n",
    "El estimador 2SLS:\n",
    "\\begin{eqnarray}\n",
    "    \\hat{\\boldsymbol{\\beta}} & = & \\left( \\mathbf{X}' \\mathbf{Z} \\left( \\frac{ \\mathbf{Z}'\\mathbf{Z} }{N} \\right)^{-1} \\mathbf{Z}' \\mathbf{X} \\right)^{-1} \\left( \\mathbf{X}' \\mathbf{Z} \\left( \\frac{ \\mathbf{Z}'\\mathbf{Z} }{N} \\right)^{-1} \\mathbf{Z}' \\mathbf{Y} \\right) \\nonumber \\\\ \n",
    "    & = & \\left( \\mathbf{X}' \\mathbf{Z} \\left( \\mathbf{Z}'\\mathbf{Z} \\right)^{-1} \\mathbf{Z}' \\mathbf{X} \\right)^{-1} \\left( \\mathbf{X}' \\mathbf{Z} \\left( \\mathbf{Z}'\\mathbf{Z} \\right)^{-1} \\mathbf{Z}' \\mathbf{Y} \\right) \\nonumber \\\\\n",
    "    & = & \\left( \\mathbf{X}' \\mathbf{Z} \\left( \\mathbf{Z}'\\mathbf{Z} \\right)^{-1} \\left( \\mathbf{Z}'\\mathbf{Z} \\right) \\left( \\mathbf{Z}'\\mathbf{Z} \\right)^{-1} \\mathbf{Z}' \\mathbf{X} \\right)^{-1} \\left( \\mathbf{X}' \\mathbf{Z} \\left( \\mathbf{Z}'\\mathbf{Z} \\right)^{-1} \\mathbf{Z}' \\mathbf{Y} \\right) \\nonumber \\\\\n",
    "    & = & \\left( \\hat{\\mathbf{X}}' \\hat{\\mathbf{X}} \\right)^{-1} \\hat{\\mathbf{X}}' \\mathbf{Y} \n",
    "    \\label{GMM_System_Beta_2SLS}\n",
    "\\end{eqnarray}\n",
    "\n",
    "El estimador 3SLS:\n",
    "\\begin{eqnarray}\n",
    "    \\hat{\\boldsymbol{\\beta}} & = & \\left( \\mathbf{X}' \\mathbf{Z} \\left( \\frac{ \\mathbf{Z}' ( \\mathbf{I}_N \\otimes \\hat{\\boldsymbol{\\Sigma}} ) \\mathbf{Z} }{N} \\right)^{-1} \\mathbf{Z}' \\mathbf{X} \\right)^{-1} \\left( \\mathbf{X}' \\mathbf{Z} \\left( \\frac{ \\mathbf{Z}' ( \\mathbf{I}_N \\otimes \\hat{\\boldsymbol{\\Sigma}} ) \\mathbf{Z} }{N} \\right)^{-1} \\mathbf{Z}' \\mathbf{Y} \\right) \\nonumber \\\\ \n",
    "    & = & \\left( \\mathbf{X}' \\mathbf{Z} \\left( \\mathbf{Z}' ( \\mathbf{I}_N \\otimes \\hat{\\boldsymbol{\\Sigma}} ) \\mathbf{Z} \\right)^{-1} \\mathbf{Z}' \\mathbf{X} \\right)^{-1} \\left( \\mathbf{X}' \\mathbf{Z} \\left( \\mathbf{Z}' ( \\mathbf{I}_N \\otimes \\hat{\\boldsymbol{\\Sigma}} ) \\mathbf{Z} \\right)^{-1} \\mathbf{Z}' \\mathbf{Y} \\right) \n",
    "    \\label{GMM_System_Beta_3SLS}\n",
    "\\end{eqnarray}\n"
   ]
  },
  {
   "cell_type": "markdown",
   "metadata": {},
   "source": [
    "## 1. Importación de bibliotecas"
   ]
  },
  {
   "cell_type": "code",
   "execution_count": null,
   "metadata": {},
   "outputs": [],
   "source": [
    "#!pip install linearmodels==4.17\n",
    "#!pip install linearmodels==4.27\n",
    "#!pip install linearmodels==4.5\n",
    "#!pip install linearmodels"
   ]
  },
  {
   "cell_type": "code",
   "execution_count": null,
   "metadata": {},
   "outputs": [],
   "source": [
    "# Common libraries\n",
    "#%matplotlib inline\n",
    "import numpy as np\n",
    "import pandas as pd\n",
    "import statsmodels.api as sm\n",
    "from linearmodels.system import SUR\n",
    "from linearmodels import IV2SLS, IV3SLS, SUR, IVSystemGMM\n",
    "\n",
    "#\n",
    "import warnings\n",
    "warnings.filterwarnings('ignore')"
   ]
  },
  {
   "cell_type": "markdown",
   "metadata": {},
   "source": [
    "Vamos a utilizar un data set que está en la biblioteca: linearmodels"
   ]
  },
  {
   "cell_type": "code",
   "execution_count": null,
   "metadata": {},
   "outputs": [],
   "source": [
    "from linearmodels.datasets import mroz # Para el Data Set\n",
    "\n",
    "print(mroz.DESCR)"
   ]
  },
  {
   "cell_type": "markdown",
   "metadata": {},
   "source": [
    "Este ejemplo demuestra cómo se puede estimar conjuntamente un sistema de ecuaciones simultáneas utilizando mínimos cuadrados de tres etapas (3SLS). \n",
    "\n",
    "Las ecuaciones simultáneas modelan el salario y el número de horas trabajadas. Las dos ecuaciones son\n",
    "\n",
    "\\begin{equation}\n",
    "    hours = \\beta_0 + \\beta_1 ln(wage) + \\beta_2 educ + \\beta_3 age + \\beta_4 kidsslt6 + \\beta_5 nwifeinc + \\varepsilon_i^h\n",
    "\\end{equation}\n",
    "\n",
    "\\begin{equation}\n",
    "    ln(wage) = \\gamma_0 + \\gamma_1 hours + \\gamma_2 educ + \\gamma_3 educ^2 + \\gamma_4 exper + \\varepsilon_i^w\n",
    "\\end{equation}\n",
    "\n",
    "Este ejemplo está basado en la discusión que hace Wooldridge (2002)."
   ]
  },
  {
   "cell_type": "code",
   "execution_count": null,
   "metadata": {},
   "outputs": [],
   "source": [
    "# Show data\n",
    "\n",
    "data = mroz.load()\n",
    "data"
   ]
  },
  {
   "cell_type": "code",
   "execution_count": null,
   "metadata": {},
   "outputs": [],
   "source": [
    "# Selecting Data and Dropping NAs values:\n",
    "\n",
    "data = data[ [\"hours\", \"educ\", \"age\", \"kidslt6\", \"nwifeinc\", \"lwage\", \"exper\", \"expersq\"] ]\n",
    "\n",
    "data = data.dropna()\n",
    "\n",
    "data"
   ]
  },
  {
   "cell_type": "markdown",
   "metadata": {},
   "source": [
    "Estos ejemplos utilizan la interfaz de fórmula. \n",
    "\n",
    "Esto suele ser más sencillo cuando los modelos tienen regresores exógenos, regresores endógenos e instrumentos.\n",
    "\n",
    "Acá algunos ejemplos con el procedimiento de 2SLS:"
   ]
  },
  {
   "cell_type": "code",
   "execution_count": null,
   "metadata": {},
   "outputs": [],
   "source": [
    "# Estimating hours equation:\n",
    "\n",
    "hours = \"hours ~ educ + age + kidslt6 + nwifeinc + [lwage ~ exper + expersq]\" # Equation\n",
    "\n",
    "hours_res = IV2SLS.from_formula(hours, data).fit(cov_type = \"unadjusted\")\n",
    "# Note: cov_type can take values in \n",
    "# HC0: White's (1980) heteroskedasticity robust standard errors.\n",
    "# HC1: MacKinnon and White's (1985) heteroskedasticity robust standard errors.\n",
    "# HC2: MacKinnon and White's (1985) heteroskedasticity robust standard errors.\n",
    "# HC3: MacKinnon and White's (1985) heteroskedasticity robust standard errors."
   ]
  },
  {
   "cell_type": "code",
   "execution_count": null,
   "metadata": {},
   "outputs": [],
   "source": [
    "# First Stage\n",
    "print(hours_res.first_stage)"
   ]
  },
  {
   "cell_type": "code",
   "execution_count": null,
   "metadata": {},
   "outputs": [],
   "source": [
    "# Second Stage\n",
    "print(hours_res)"
   ]
  },
  {
   "cell_type": "code",
   "execution_count": null,
   "metadata": {},
   "outputs": [],
   "source": [
    "# Estimating wage equation:\n",
    "\n",
    "lwage = \"lwage ~ educ + exper + expersq + [hours ~ age + kidslt6 + nwifeinc]\"\n",
    "\n",
    "lwage_res = IV2SLS.from_formula(lwage, data).fit(cov_type = \"unadjusted\")"
   ]
  },
  {
   "cell_type": "code",
   "execution_count": null,
   "metadata": {},
   "outputs": [],
   "source": [
    "# First Stage\n",
    "print(lwage_res.first_stage)"
   ]
  },
  {
   "cell_type": "code",
   "execution_count": null,
   "metadata": {},
   "outputs": [],
   "source": [
    "# Second Stage\n",
    "print(lwage_res)"
   ]
  },
  {
   "cell_type": "markdown",
   "metadata": {},
   "source": [
    "Un sistema se puede especificar utilizando un diccionario de fórmulas. \n",
    "\n",
    "Las términos del diccionario se utilizan como etiquetas de ecuación. Aparte de este simple cambio, la sintaxis es idéntica.\n",
    "\n",
    "Aquí, el modelo se estima usando MCO que estimará simultáneamente las dos ecuaciones pero producirá estimaciones que son idénticas a las ecuaciones separadas."
   ]
  },
  {
   "cell_type": "code",
   "execution_count": null,
   "metadata": {},
   "outputs": [],
   "source": [
    "#\n",
    "\n",
    "hours = \"hours ~ educ + age + kidslt6 + nwifeinc + [lwage ~ exper + expersq]\" # Equation\n",
    "\n",
    "lwage = \"lwage ~ educ + exper + expersq + [hours ~ age + kidslt6 + nwifeinc]\""
   ]
  },
  {
   "cell_type": "code",
   "execution_count": null,
   "metadata": {},
   "outputs": [],
   "source": [
    "# Estimating System:\n",
    "\n",
    "equations = dict(hours = hours, lwage = lwage)\n",
    "\n",
    "system_2sls_res = IV3SLS.from_formula(equations, data).fit(method=\"ols\", cov_type = \"unadjusted\")"
   ]
  },
  {
   "cell_type": "code",
   "execution_count": null,
   "metadata": {},
   "outputs": [],
   "source": [
    "# \n",
    "print(system_2sls_res)"
   ]
  },
  {
   "cell_type": "markdown",
   "metadata": {},
   "source": [
    "El uso estimaciones GLS que pueden ser más eficientes que las estimaciones habituales. Aquí sólo cambia la primera ecuación. Esto se debe a la estructura del problema."
   ]
  },
  {
   "cell_type": "code",
   "execution_count": null,
   "metadata": {},
   "outputs": [],
   "source": [
    "# Estimating System:\n",
    "\n",
    "equations = dict(hours = hours, lwage = lwage)\n",
    "\n",
    "system_3sls_res = IV3SLS.from_formula(equations, data).fit(method = \"gls\", cov_type = \"unadjusted\")"
   ]
  },
  {
   "cell_type": "code",
   "execution_count": null,
   "metadata": {},
   "outputs": [],
   "source": [
    "#\n",
    "\n",
    "print(system_3sls_res)"
   ]
  },
  {
   "cell_type": "markdown",
   "metadata": {},
   "source": [
    "### Especificación directa del modelo\n",
    "\n",
    "El modelo se puede especificar directamente usando un diccionario de diccionarios donde los diccionarios internos contienen los 4 componentes del modelo:\n",
    "\n",
    "* dependent - La variable dependiente\n",
    "* exog - regresores exógenos\n",
    "* endog - regresores endógenos\n",
    "* instruments - Variables instrumentales\n",
    "\n",
    "Las estimaciones son las mismas. Esta interfaz es más útil para generar y estimar modelos mediante programación."
   ]
  },
  {
   "cell_type": "code",
   "execution_count": null,
   "metadata": {},
   "outputs": [],
   "source": [
    "hours = {\n",
    "    \"dependent\": data[[\"hours\"]],\n",
    "    \"exog\": data[[\"educ\", \"age\", \"kidslt6\", \"nwifeinc\"]],\n",
    "    \"endog\": data[[\"lwage\"]],\n",
    "    \"instruments\": data[[\"exper\", \"expersq\"]],\n",
    "}\n",
    "\n",
    "lwage = {\n",
    "    \"dependent\": data[[\"lwage\"]],\n",
    "    \"exog\": data[[\"educ\", \"exper\", \"expersq\"]],\n",
    "    \"endog\": data[[\"hours\"]],\n",
    "    \"instruments\": data[[\"age\", \"kidslt6\", \"nwifeinc\"]],\n",
    "}\n",
    "\n",
    "equations = dict(hours = hours, lwage = lwage)\n",
    "\n",
    "system_3sls_res = IV3SLS(equations).fit(cov_type=\"unadjusted\")\n",
    "\n",
    "print(system_3sls_res)"
   ]
  },
  {
   "cell_type": "code",
   "execution_count": null,
   "metadata": {},
   "outputs": [],
   "source": []
  },
  {
   "cell_type": "code",
   "execution_count": null,
   "metadata": {},
   "outputs": [],
   "source": []
  },
  {
   "cell_type": "code",
   "execution_count": null,
   "metadata": {},
   "outputs": [],
   "source": []
  },
  {
   "cell_type": "code",
   "execution_count": null,
   "metadata": {},
   "outputs": [],
   "source": []
  }
 ],
 "metadata": {
  "kernelspec": {
   "display_name": "Python 3 (ipykernel)",
   "language": "python",
   "name": "python3"
  },
  "language_info": {
   "codemirror_mode": {
    "name": "ipython",
    "version": 3
   },
   "file_extension": ".py",
   "mimetype": "text/x-python",
   "name": "python",
   "nbconvert_exporter": "python",
   "pygments_lexer": "ipython3",
   "version": "3.10.14"
  }
 },
 "nbformat": 4,
 "nbformat_minor": 2
}
