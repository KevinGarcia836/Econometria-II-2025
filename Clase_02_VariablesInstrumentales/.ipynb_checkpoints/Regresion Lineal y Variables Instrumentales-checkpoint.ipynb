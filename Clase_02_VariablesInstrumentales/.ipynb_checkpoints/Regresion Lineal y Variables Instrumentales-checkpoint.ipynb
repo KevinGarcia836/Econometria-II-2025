{
 "cells": [
  {
   "cell_type": "markdown",
   "metadata": {},
   "source": [
    "### REGRESIÓN LINEAL EN PYTHON Y VARIABLES PROXY"
   ]
  },
  {
   "cell_type": "markdown",
   "metadata": {},
   "source": [
    "##### Para esta clase utilizaremos como referencia la hipótesis y datos utilizados en el artículo: **\"The Colonial Origins of Comparative Development: An Empirical Investigation\"**\n",
    "\n",
    "* Autores: Daron Acemoglu, Simon Johnson, James A. Robinson\n",
    "\n",
    "* Fuente: The American Economic Review, Vol. 91, No. 5 (Dec., 2001), pp. 1369-1401 https://economics.mit.edu/files/4123\n",
    "\n",
    "* La versión en español la pueden encontrar en  redalyc.org/pdf/419/41901302.pdf"
   ]
  },
  {
   "cell_type": "markdown",
   "metadata": {},
   "source": [
    "#### PROPÓSITO DE ESTA CLASE\n",
    "* Aplicar el concepto de variables instrumentales que ya revisamos de forma teórica.\n",
    "* Utilizando un modelo de 2 etapas analizar la hipótesis de los autores: el desempeño económico observado puede ser atribuido a las diferencias institucionales.\n",
    "\n",
    "* **Los autores del artículo proponen 3 premisas:**\n",
    "\n",
    "* 1. Los diversos tipos de políticas de colonización crearon diferentes grupos de instituciones.  En un extremo, los europeos establecieron “Estados extractivos” , instituciones que  no proporcionaron mucha protección a la propiedad privada, ni establecieron un sistema de pesos y contrapesos contra la  expropiación del gobierno. \n",
    "\n",
    "* En el otro extremo, muchos europeos emigraron y se asentaron en diversas colonias, creando  “nuevas Europas”. Los colonizadores trataron de replicar las instituciones europeas, con gran énfasis en la propiedad privada y en el control del poder del gobierno.\n",
    "\n",
    "* 2. La factibilidad de los asentamientos influyó en la estrategia de colonización. En lugares donde el ambiente insalubre no era favorable al asentamiento europeo, no resultaba posible crear “nuevas Europas”,y era más factible la formación del Estado extractivo.\n",
    "\n",
    "* 3. El Estado colonial y las instituciones persistieron aun después de la independencia.\n",
    "\n",
    "\n",
    "* **HIPÓTESIS:** las tasas de mortalidad (potenciales) de los colonizadores fueron el principal determinante de los asentamientos; los asentamientos fueron un determinante importante de las instituciones iniciales (en la práctica, las instituciones de 1900); y existe una fuerte correlación entre las instituciones iniciales y las instituciones actuales.\n",
    "\n",
    "**¿Cómo medimos las diferencias institucionales y los resultados económicos?**\n",
    "\n",
    "* Los resultados económicos de una economía son aproximados por el logaritmo del PIB per cápita en 1995, ajustados por la paridad del poder adquisitivo, ppp.\n",
    "\n",
    "* Las diferencias institucionales son aproximadas mediante el  índice de protección contra la expropiación que reporta un  valor entre 0 y 10 para cada país y año,donde 0 corresponde a la menor protección contra la expropiación. Se utilizó  el valor promedio de cada país entre 1985 y 1995 ( “riesgo de expropiación” promedio 1985-95\", este índice fue construido por el Grupo de Servicios de Riesgo Político https://www.prsgroup.com/).\n",
    "\n",
    "* La principal contribución del artículo es el uso de las tasas de mortalidad como fuente de variación exógena en las diferencias institucionales.\n",
    "\n",
    "* Dicha variación es necesaria para determinar si son las instituciones las que dan lugar a un mayor crecimiento económico, y no al revés.\n",
    "\n"
   ]
  },
  {
   "cell_type": "markdown",
   "metadata": {},
   "source": [
    "### 1.- Importando las librerías necesarias\n",
    "* Para esta clase necesitamos instalar linearmodels"
   ]
  },
  {
   "cell_type": "code",
   "execution_count": null,
   "metadata": {},
   "outputs": [],
   "source": [
    "#!pip install pip\n",
    "#!pip install linearmodels"
   ]
  },
  {
   "cell_type": "code",
   "execution_count": null,
   "metadata": {},
   "outputs": [],
   "source": [
    "import numpy as np\n",
    "import pandas as pd\n",
    "#pd.core.common.is_list_like = pd.api.types.is_list_like\n",
    "import matplotlib.pyplot as plt\n",
    "import statsmodels.api as sm\n",
    "from statsmodels.iolib.summary2 import summary_col\n",
    "from linearmodels.iv import IV2SLS\n",
    "from linearmodels.iv.results import compare\n",
    "\n",
    "#\n",
    "import warnings\n",
    "warnings.filterwarnings('ignore')"
   ]
  },
  {
   "cell_type": "markdown",
   "metadata": {},
   "source": [
    "### 2.-Datos.\n",
    "* Con la ayuda de la instrucción *read_stata* leeremos los datos, nuestro Dataframe contiene la siguiente información:\n",
    "- shortnam - Abreviatura Nonmbre país.\n",
    "- euro1900 -Restricciones al Ejecutivo en 1900\n",
    "- excolony: variable dummy 1- excolonia -0 no excolonia\n",
    "- logpgp95 logaritmo del pib per cápita en 1995 \n",
    "- avexpr Protección promedio contra el riesgo de expropiación,1985-1995 \n",
    "- cons1 Constraint on executive in first year of independence \n",
    "- cons90 Constraint on executive in 1900 \n",
    "- democ00a ïndice de democracia 1900\n",
    "- cons00a\n",
    "- extmort4\n",
    "- logem4 logaritmo de la tasa de mortalidad de los colonizadores para una muestra de 75 países,\n",
    "- loghjypl\n",
    "- baseco"
   ]
  },
  {
   "cell_type": "code",
   "execution_count": null,
   "metadata": {},
   "outputs": [],
   "source": [
    "#\n",
    "df1 = pd.read_stata('maketable1.dta')\n",
    "df1.head()"
   ]
  },
  {
   "cell_type": "markdown",
   "metadata": {},
   "source": [
    "### 3.- Explorando los datos de forma gráfica\n",
    "* Con una gráfica de dispersión exploraremos la relación entre las variables **'avexpr' Protección promedio contra el riesgo de expropiación,1985-1995 y 'logpgp95' Logaritmo del pib per cápita, 1975 y 1995**.\n",
    "* ¿Qué tipo de relación observas en los datos?"
   ]
  },
  {
   "cell_type": "code",
   "execution_count": null,
   "metadata": {},
   "outputs": [],
   "source": [
    "# NOTA:\n",
    "# \n",
    "print(plt.style.available)"
   ]
  },
  {
   "cell_type": "code",
   "execution_count": null,
   "metadata": {},
   "outputs": [],
   "source": [
    "#\n",
    "plt.style.use('seaborn-v0_8-white') #ggplot, 'seaborn-v0_8-white'\n",
    "df1.plot(x ='avexpr', y ='logpgp95', kind = 'scatter')\n",
    "plt.title('Gráfica 1: Gráfico de dispersión')\n",
    "plt.show()"
   ]
  },
  {
   "cell_type": "markdown",
   "metadata": {},
   "source": [
    "### 4.- Modelo OLS Bivariado\n",
    "\n",
    "* Si un alto índice de  Protección promedio contra el riesgo de expropiación es una medida de calidad institucional, entonces **\"mejores instituciones\"  parecen estar positivamente correlacionadas con mejores desempeño económico (medido como un alto PIB per capita).**\n",
    "\n",
    "* Para describir esta relación, podríamos generar un **modelo bivariado entre el PIB percápita como variable dependiente y el Índice de Protección  promedio contra el riesgo de expropiación  como variable explicativa.**"
   ]
  },
  {
   "cell_type": "code",
   "execution_count": null,
   "metadata": {},
   "outputs": [],
   "source": [
    "# Generamos un subconjunto limpio de datos eliminando las observaciones con datos NA\n",
    "df1_subset = df1.dropna(subset = ['logpgp95', 'avexpr'])\n",
    "\n",
    "df1_subset.head()"
   ]
  },
  {
   "cell_type": "code",
   "execution_count": null,
   "metadata": {},
   "outputs": [],
   "source": [
    "#\n",
    "df1_subset = df1_subset[df1_subset['baseco'] == 1]\n",
    "\n",
    "df1_subset.tail()"
   ]
  },
  {
   "cell_type": "code",
   "execution_count": null,
   "metadata": {},
   "outputs": [],
   "source": [
    "#Establecemos los parámetros X y Y\n",
    "X = df1_subset['avexpr'] \n",
    "y = df1_subset['logpgp95']\n",
    "\n",
    "#Guardamos los valores de nuestras etiquetas \n",
    "labels = df1_subset['shortnam']\n",
    "\n",
    "# Reemplazamos los marcadores con los nombres de las etiquetas\n",
    "fig, ax = plt.subplots()\n",
    "ax.scatter(X, y, marker = '')\n",
    "\n",
    "for i, label in enumerate(labels):\n",
    "    ax.annotate(label, (X.iloc[i], y.iloc[i]))\n",
    "\n",
    "# Trazamos una línea de tendencia\n",
    "ax.plot(np.unique(X),\n",
    "         np.poly1d(np.polyfit(X, y, 1))(np.unique(X)),\n",
    "         color = 'black')\n",
    "\n",
    "ax.set_xlim([3.3,10.5])\n",
    "ax.set_ylim([4,10.5])\n",
    "ax.set_xlabel('Protección promedio contra el riesgo de expropiación 1985-95')\n",
    "ax.set_ylabel('Log PIB per capita, PPP, 1995')\n",
    "ax.set_title('Gráfica 2: OLS relación entre riesgo de expropiación e ingreso')\n",
    "\n",
    "# Save the Figure\n",
    "#plt.savefig(\"FIGURA.png\", bbox_inches = 'tight')\n",
    "\n",
    "plt.show()"
   ]
  },
  {
   "cell_type": "markdown",
   "metadata": {},
   "source": [
    "* Para estimar los parámetros del modelo OLS, necesitamos añadir una columna con valor 1 "
   ]
  },
  {
   "cell_type": "code",
   "execution_count": null,
   "metadata": {},
   "outputs": [],
   "source": [
    "#\n",
    "df1['const'] = 1\n",
    "\n",
    "df1.head()"
   ]
  },
  {
   "cell_type": "markdown",
   "metadata": {},
   "source": [
    "* Ahora podemos construir el modelo OLS"
   ]
  },
  {
   "cell_type": "code",
   "execution_count": null,
   "metadata": {},
   "outputs": [],
   "source": [
    "#\n",
    "reg1 = sm.OLS( endog = df1['logpgp95'], exog = df1[['const', 'avexpr']], \\\n",
    "       missing = 'drop')\n",
    "\n",
    "results = reg1.fit()\n",
    "\n",
    "print(results.summary())"
   ]
  },
  {
   "cell_type": "markdown",
   "metadata": {},
   "source": [
    "### Resultados:\n",
    "**intercepto=4.63, B1=0.53,** la calidad institucional tiene un efecto positivo  en el desempeño económico.\n",
    "**p-value:** El efecto de las instituciones sobre el PIB per cápita  es estadísticamente significativo\n",
    "**R²=.611** al rededor de 61% de la variación en la variable LOG PIB per cápita es explicada por la variable Índice de  Protección promedio contra el riesgo de expropiación"
   ]
  },
  {
   "cell_type": "markdown",
   "metadata": {},
   "source": [
    "### Utilizando nuestro modelo para predecir niveles de PIB per cápita"
   ]
  },
  {
   "cell_type": "code",
   "execution_count": null,
   "metadata": {},
   "outputs": [],
   "source": [
    "#primero calculamos el promedio de avexpr\n",
    "\n",
    "mean_expr = np.mean(df1_subset['avexpr'])\n",
    "\n",
    "mean_expr"
   ]
  },
  {
   "cell_type": "code",
   "execution_count": null,
   "metadata": {},
   "outputs": [],
   "source": [
    "results.predict(exog = [1, mean_expr] )"
   ]
  },
  {
   "cell_type": "markdown",
   "metadata": {},
   "source": [
    "### Podemos obtener el valor predicho para cada valor "
   ]
  },
  {
   "cell_type": "code",
   "execution_count": null,
   "metadata": {},
   "outputs": [],
   "source": [
    "# Eliminamos los valores nulos de la base\n",
    "\n",
    "df1_plot = df1.dropna( subset = ['logpgp95', 'avexpr'] )\n",
    "\n",
    "# Graficamos los valores predichos\n",
    "\n",
    "fig, ax = plt.subplots()\n",
    "ax.scatter( df1_plot['avexpr'], \n",
    "            results.predict(), \n",
    "            alpha = 0.5,\n",
    "            label = 'Predicción' )\n",
    "\n",
    "# Graficamos los valores observados\n",
    "\n",
    "ax.scatter( df1_plot['avexpr'], \n",
    "            df1_plot['logpgp95'], \n",
    "            alpha = 0.5, \n",
    "            label = 'Observado')\n",
    "\n",
    "ax.legend()\n",
    "ax.set_title( 'OLS valores predichos' )\n",
    "ax.set_xlabel( 'avexpr' )\n",
    "ax.set_ylabel( 'logpgp95' )\n",
    "\n",
    "plt.show()"
   ]
  },
  {
   "cell_type": "markdown",
   "metadata": {},
   "source": [
    "###  5.-Modelo Multivariado\n",
    "* Hasta ahora, nuestro modelo sólo considera como variable explicativa el Índice de  Protección promedio contra el riesgo de expropiación, seguramente existen otras variables que tienen un efecto sobre el PIB per cápita.\n",
    "\n",
    "* Los cálculos de los parámetros de nuestro modelo pueden estar afectados por lo que se conoce como **\"sesgo de variable omitida\"**, para solucionar este problema, extenderemos nuestro modelo para incluir otras variables.\n"
   ]
  },
  {
   "cell_type": "code",
   "execution_count": null,
   "metadata": {},
   "outputs": [],
   "source": [
    "# cargamos los datos para nuestro modelo multivariado\n",
    "\n",
    "df2 = pd.read_stata('maketable2.dta')\n",
    "\n",
    "# Creamos nuestra constante\n",
    "df2['const'] = 1\n",
    "\n",
    "df2"
   ]
  },
  {
   "cell_type": "code",
   "execution_count": null,
   "metadata": {},
   "outputs": [],
   "source": [
    "# Creamos una lista de variables que serán utilizadas en cada regresión \n",
    "# (vamos a generar 3 modelos) \n",
    "# Seleccionamos columnas mediante estas 3 listas:\n",
    "X1 = ['const', 'avexpr']\n",
    "X2 = ['const', 'avexpr', 'lat_abst']\n",
    "X3 = ['const', 'avexpr', 'lat_abst', 'asia', 'africa', 'other']\n",
    "\n",
    "# Estimaremos un modelo de regresión OLS por cada conjunto de variables.\n",
    "\n",
    "reg1 = sm.OLS( df2['logpgp95'], df2[X1], missing = 'drop').fit()\n",
    "reg2 = sm.OLS( df2['logpgp95'], df2[X2], missing = 'drop').fit()\n",
    "reg3 = sm.OLS( df2['logpgp95'], df2[X3], missing = 'drop').fit() "
   ]
  },
  {
   "cell_type": "markdown",
   "metadata": {},
   "source": [
    "* Con la instrucción **summary_col** vamos a desplegar los resultados de los tres modelos en una sola tabla"
   ]
  },
  {
   "cell_type": "code",
   "execution_count": null,
   "metadata": {},
   "outputs": [],
   "source": [
    "#\n",
    "info_dict = { 'R-squared' : lambda x: f\"{x.rsquared:.2f}\",\n",
    "              'No. observations' : lambda x: f\"{int(x.nobs):d}\" }\n",
    "\n",
    "results_table = summary_col( results = [reg1, reg2, reg3] ,\n",
    "                             float_format = '%0.2f',\n",
    "                             stars = True,\n",
    "                             model_names = [ 'Model 1',\n",
    "                                             'Model 3',\n",
    "                                             'Model 4'],\n",
    "                             info_dict = info_dict,\n",
    "                             regressor_order = [ 'const',\n",
    "                                                 'avexpr',\n",
    "                                                 'lat_abst',\n",
    "                                                 'asia',\n",
    "                                                 'africa' ])\n",
    "\n",
    "results_table.add_title('Table 2 - OLS Regressions')\n",
    "\n",
    "print(results_table)"
   ]
  },
  {
   "cell_type": "markdown",
   "metadata": {},
   "source": [
    "### 6. Endogeneidad Modelo de Mínimos Cuadrados en dos etapas\n",
    "* **Endogeneidad** puede surgir como resultado de un error de medición, autorregresión con autocorrelación de errores, simultaneidad y variables omitidas. Utilizando un modelo OLS de dos etapas revisaremos cómo podemos arreglar este problema.\n",
    "\n",
    "* La relación que existe entre el Índice de protección  promedio contra el riesgo de expropiación ('avexpr') y el    Logaritmo del PIB per cápita, puede ser bidireccional. \n",
    "* Por ejemplo, es probable que los países más ricos puedan financiar o preferir mejores instituciones; o que las variables que afectan el ingreso también pueden estar correlacionadas con diferencias institucionales; también podría se plausible que  la construcción del índice de protección  promedio contra el riesgo de expropiación pudo sesgarse,  los analistas pueden estar predispuestos a ver que los países con mayores ingresos tengan mejores instituciones"
   ]
  },
  {
   "cell_type": "markdown",
   "metadata": {},
   "source": [
    "### Instrumentos y Método de Variables Intrumentales en dos etapas\n",
    "\n",
    "* Instrimentemos nuestro índice de protección a la democracia a través de una variable instrumental: la tasa de mortalidad de los primeros colonizadores.\n",
    "\n",
    "* De esta forma utilizaremos el procedimiento de estimación de Mínimos Cuadros en Dos Etapas. Podemos utilizar el estimador de Variables Instrumentales para determinar (Segunda Etapa):\n",
    "\n",
    "$$\\hat{\\boldsymbol{\\beta}}^{IV} = (\\hat{\\mathbf{X}}' \\hat{\\mathbf{X}})^{-1} \\hat{\\mathbf{X}}' \\mathbf{Y}$$\n",
    "\n",
    "* Por otro lado, podemoos establecer el siguiente vector de innstrumentos:\n",
    "\\begin{equation*}\n",
    "    \\mathbf{z}_i = (1, x_{i1}, \\ldots, x_{iK-1}, z_{i1}, \\ldots, z_{iM})\n",
    "\\end{equation*}\n",
    "\n",
    "* Contruyendo de forma simimar a otras matrices a $\\mathbf{Z}$ apilado la información de cada uno de los individuos. De esta forma podremos constriuir $\\hat{\\mathbf{X}}$ mediante el uso de un estimador de MCO:\n",
    "\\begin{eqnarray*}\n",
    "    \\hat{\\mathbf{X}} & = & \\mathbf{Z} \\hat{\\boldsymbol{\\gamma}} \\\\\n",
    "    & = & \\mathbf{Z} (\\mathbf{Z}' \\mathbf{Z})^{-1} \\mathbf{Z}' \\mathbf{X}\n",
    "\\end{eqnarray*}\n",
    "\n",
    "* De lo anterior tendríamos que (Primera Etapa):\n",
    "\\begin{equation*}\n",
    "    \\hat{\\mathbf{X}}' = \\mathbf{X}' \\mathbf{Z} (\\mathbf{Z}' \\mathbf{Z})^{-1} \\mathbf{Z}'\n",
    "\\end{equation*}\n",
    "\n",
    "* Sólo para poner en contexto, podemos platear el Método Generalizado de Momentos de la siguiente forma:\n",
    "\n",
    "\n",
    "$$\\hat{\\boldsymbol{\\beta}}^{GMM} = (\\hat{\\mathbf{X}}' \\hat{\\mathbf{W}} \\hat{\\mathbf{X}})^{-1} \\hat{\\mathbf{X}}'\\hat{\\mathbf{W}} \\mathbf{Y}$$\n",
    "\n",
    "Donde $\\hat{\\mathbf{W}}$ es una matriz definida positiva."
   ]
  },
  {
   "cell_type": "code",
   "execution_count": null,
   "metadata": {},
   "outputs": [],
   "source": [
    "# Regresamos a nuestro DF inicial: Borrado de NA's \n",
    "df1_subset2 = df1.dropna( subset = [ 'logem4', 'avexpr' ] )\n",
    "\n",
    "X = df1_subset2['logem4']\n",
    "y = df1_subset2['avexpr']\n",
    "\n",
    "labels = df1_subset2['shortnam']"
   ]
  },
  {
   "cell_type": "code",
   "execution_count": null,
   "metadata": {},
   "outputs": [],
   "source": [
    "plt.style.use('seaborn-v0_8-white')\n",
    "\n",
    "# \n",
    "fig, ax = plt.subplots()\n",
    "ax.scatter(X, y, marker = '')\n",
    "\n",
    "for i, label in enumerate(labels):\n",
    "    ax.annotate(label, (X.iloc[i], y.iloc[i]))\n",
    "\n",
    "# Línea de tendencia\n",
    "ax.plot( np.unique(X),\n",
    "         np.poly1d(np.polyfit(X, y, 1))(np.unique(X)),\n",
    "         color = 'darkblue' )\n",
    "\n",
    "ax.set_xlim([1.8,8.4])\n",
    "ax.set_ylim([3.3,10.4])\n",
    "ax.set_xlabel('Logaritmo de la mortalidad de los colonizadores')\n",
    "ax.set_ylabel('Riesgo promedio de expropiación 1985-95')\n",
    "ax.set_title('Figura 3: Relación entre mortalidad de los colonizadores y el riesgo de expropiación', \n",
    "             size = 14)\n",
    "\n",
    "#\n",
    "plt.show()"
   ]
  },
  {
   "cell_type": "markdown",
   "metadata": {},
   "source": [
    "### Primera Etapa: Para la primera etapa requerimos instrumentar el riesgo de expropiación\n",
    "\n",
    "$$avexpr_i = \\delta_0 + \\delta_1 logem4_i + \\nu_i$$"
   ]
  },
  {
   "cell_type": "code",
   "execution_count": null,
   "metadata": {},
   "outputs": [],
   "source": [
    "# Import and select the data\n",
    "df4 = pd.read_stata('maketable4.dta')\n",
    "df4 = df4[df4['baseco'] == 1]\n",
    "df4.head()"
   ]
  },
  {
   "cell_type": "code",
   "execution_count": null,
   "metadata": {},
   "outputs": [],
   "source": [
    "# \n",
    "df4['const'] = 1\n",
    "\n",
    "# Regresión\n",
    "results_fs = sm.OLS(df4['avexpr'],\n",
    "                    df4[['const', 'logem4']],\n",
    "                    missing = 'drop').fit()\n",
    "\n",
    "print(results_fs.summary())"
   ]
  },
  {
   "cell_type": "markdown",
   "metadata": {},
   "source": [
    "### Segunda Etapa: En la segunda etapa estimamos la ecuación de interés\n",
    "\n",
    "$$logpgp95_i = β_0 + β_1 \\widehat{avexpr}_i + \\varepsilon_i$$"
   ]
  },
  {
   "cell_type": "code",
   "execution_count": null,
   "metadata": {},
   "outputs": [],
   "source": [
    "# Tomamos el valor predicho de la Primera Etapa:\n",
    "df4['predicted_avexpr'] = results_fs.predict()\n",
    "\n",
    "df4.head()"
   ]
  },
  {
   "cell_type": "code",
   "execution_count": null,
   "metadata": {},
   "outputs": [],
   "source": [
    "# Estimamos la Segunda Etapa, mediante la estimación de la ecuación de interés\n",
    "results_ss = sm.OLS(df4['logpgp95'],\n",
    "                    df4[['const', 'predicted_avexpr']]).fit()\n",
    "\n",
    "print(results_ss.summary())"
   ]
  },
  {
   "cell_type": "markdown",
   "metadata": {},
   "source": [
    "### Estimación en una sola instrucción: IV2SLS"
   ]
  },
  {
   "cell_type": "code",
   "execution_count": null,
   "metadata": {},
   "outputs": [],
   "source": [
    "# Sin estimación de ajuste de errores\n",
    "iv = IV2SLS( dependent = df4['logpgp95'],\n",
    "             exog = df4['const'],\n",
    "             endog = df4['avexpr'],\n",
    "             instruments = df4[[ 'logem4' ]]).fit()#.cov_type='unadjusted')\n",
    "\n",
    "print(iv.summary)"
   ]
  },
  {
   "cell_type": "markdown",
   "metadata": {},
   "source": [
    "### Estimación de varios modelos"
   ]
  },
  {
   "cell_type": "code",
   "execution_count": null,
   "metadata": {},
   "outputs": [],
   "source": [
    "# \n",
    "iv_01 = IV2SLS( dependent = df4['logpgp95'],\n",
    "                exog = df4['const'],\n",
    "                endog = df4[['avexpr']],\n",
    "                instruments = df4[[ 'logem4']]).fit()#.cov_type='unadjusted')\n",
    "\n",
    "iv_02 = IV2SLS( dependent = df4['logpgp95'],\n",
    "                exog = df4['const'],\n",
    "                endog = df4[['avexpr', 'lat_abst']],\n",
    "                instruments = df4[[ 'logem4', 'lat_abst']]).fit()#.cov_type='unadjusted')\n",
    "\n",
    "iv_03 = IV2SLS( dependent = df4['logpgp95'],\n",
    "                exog = df4['const'],\n",
    "                endog = df4[['avexpr', 'lat_abst', 'africa', 'asia']],\n",
    "                instruments = df4[[ 'logem4', 'lat_abst', 'africa', 'asia' ]]).fit()#.cov_type='unadjusted')\n",
    "#"
   ]
  },
  {
   "cell_type": "code",
   "execution_count": null,
   "metadata": {},
   "outputs": [],
   "source": [
    "#\n",
    "result = compare({'Modelo 1': iv_01, 'Modelo 2': iv_02, 'Modelo 3': iv_03})\n",
    "\n",
    "# Imprime el resultado\n",
    "print(result)"
   ]
  },
  {
   "cell_type": "code",
   "execution_count": null,
   "metadata": {},
   "outputs": [],
   "source": []
  },
  {
   "cell_type": "code",
   "execution_count": null,
   "metadata": {},
   "outputs": [],
   "source": []
  },
  {
   "cell_type": "code",
   "execution_count": null,
   "metadata": {},
   "outputs": [],
   "source": []
  }
 ],
 "metadata": {
  "kernelspec": {
   "display_name": "Python 3 (ipykernel)",
   "language": "python",
   "name": "python3"
  },
  "language_info": {
   "codemirror_mode": {
    "name": "ipython",
    "version": 3
   },
   "file_extension": ".py",
   "mimetype": "text/x-python",
   "name": "python",
   "nbconvert_exporter": "python",
   "pygments_lexer": "ipython3",
   "version": "3.10.14"
  }
 },
 "nbformat": 4,
 "nbformat_minor": 2
}
